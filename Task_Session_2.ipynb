{
  "nbformat": 4,
  "nbformat_minor": 0,
  "metadata": {
    "colab": {
      "provenance": [],
      "authorship_tag": "ABX9TyN+GeQdtZGFExx1ac0uV+c/",
      "include_colab_link": true
    },
    "kernelspec": {
      "name": "python3",
      "display_name": "Python 3"
    },
    "language_info": {
      "name": "python"
    }
  },
  "cells": [
    {
      "cell_type": "markdown",
      "metadata": {
        "id": "view-in-github",
        "colab_type": "text"
      },
      "source": [
        "<a href=\"https://colab.research.google.com/github/saranshikens/Epoch-Tasks/blob/main/Task_Session_2.ipynb\" target=\"_parent\"><img src=\"https://colab.research.google.com/assets/colab-badge.svg\" alt=\"Open In Colab\"/></a>"
      ]
    },
    {
      "cell_type": "markdown",
      "source": [
        "**$\\Huge \\text{TASK SESSION-2}$**  \n",
        "<br>\n",
        "●\tOverview of Forward Pass and Backpropagation  \n",
        "●\tDifferent Types of Activation Functions  \n",
        "●\tOptimizers  \n",
        "●\tDropout, Normalization and Regularization  \n",
        "●\tGreedy Layer-Wise Pre-Training  \n",
        "●\tPractical Aspects  \n",
        "●\tMixed Precision Training  \n",
        "<br>  \n",
        "$\\large \\text{By - Saransh}$"
      ],
      "metadata": {
        "id": "iGA3CSLNv0_m"
      }
    },
    {
      "cell_type": "markdown",
      "source": [
        "\n",
        "\n",
        "---\n",
        "\n"
      ],
      "metadata": {
        "id": "hVW72BP2wUcq"
      }
    },
    {
      "cell_type": "markdown",
      "source": [
        "**$\\huge \\text{STEP-1 DATA CLEANING AND INITIAL INSIGHTS}$**  "
      ],
      "metadata": {
        "id": "M1MpdcxFwZYQ"
      }
    },
    {
      "cell_type": "markdown",
      "source": [
        "**$\\LARGE \\text{Loading the Dataset}$**  \n",
        "I will be using Kaggle's API machinery to load the datasets."
      ],
      "metadata": {
        "id": "fuH44kcrwnBX"
      }
    },
    {
      "cell_type": "code",
      "execution_count": null,
      "metadata": {
        "id": "dqkcQFVSIbeI"
      },
      "outputs": [],
      "source": [
        "# Setting up Kaggle\n",
        "\n",
        "!mkdir -p ~/.kaggle\n",
        "!cp kaggle.json ~/.kaggle/\n",
        "!chmod 600 ~/.kaggle/kaggle.json"
      ]
    },
    {
      "cell_type": "code",
      "source": [
        "!bash -c \"kaggle datasets download -d gauravduttakiit/resume-dataset > /dev/null 2>&1\""
      ],
      "metadata": {
        "id": "siyiG87iIvJ9"
      },
      "execution_count": null,
      "outputs": []
    },
    {
      "cell_type": "code",
      "source": [
        "!unzip -q resume-dataset.zip"
      ],
      "metadata": {
        "id": "yaPVEu28I_x7"
      },
      "execution_count": null,
      "outputs": []
    },
    {
      "cell_type": "code",
      "source": [
        "import numpy as np\n",
        "import pandas as pd"
      ],
      "metadata": {
        "id": "sJ9CQVD2JGGb"
      },
      "execution_count": null,
      "outputs": []
    },
    {
      "cell_type": "markdown",
      "source": [
        "\n",
        "\n",
        "---\n",
        "\n"
      ],
      "metadata": {
        "id": "F1rzMrVu4Xqm"
      }
    },
    {
      "cell_type": "markdown",
      "source": [
        "**$\\LARGE \\text{Reading the data}$**"
      ],
      "metadata": {
        "id": "B5S7R2Tlwzel"
      }
    },
    {
      "cell_type": "code",
      "source": [
        "df = pd.read_csv(\"/content/UpdatedResumeDataSet.csv\")\n",
        "df.head()"
      ],
      "metadata": {
        "colab": {
          "base_uri": "https://localhost:8080/",
          "height": 206
        },
        "id": "5BKSLhSSJJWH",
        "outputId": "163f63f4-b8ac-4b8b-aea2-cc7a5b7aff6c"
      },
      "execution_count": null,
      "outputs": [
        {
          "output_type": "execute_result",
          "data": {
            "text/plain": [
              "       Category                                             Resume\n",
              "0  Data Science  Skills * Programming Languages: Python (pandas...\n",
              "1  Data Science  Education Details \\r\\nMay 2013 to May 2017 B.E...\n",
              "2  Data Science  Areas of Interest Deep Learning, Control Syste...\n",
              "3  Data Science  Skills â¢ R â¢ Python â¢ SAP HANA â¢ Table...\n",
              "4  Data Science  Education Details \\r\\n MCA   YMCAUST,  Faridab..."
            ],
            "text/html": [
              "\n",
              "  <div id=\"df-2e387bfd-350e-4174-ac26-2de257c3abd8\" class=\"colab-df-container\">\n",
              "    <div>\n",
              "<style scoped>\n",
              "    .dataframe tbody tr th:only-of-type {\n",
              "        vertical-align: middle;\n",
              "    }\n",
              "\n",
              "    .dataframe tbody tr th {\n",
              "        vertical-align: top;\n",
              "    }\n",
              "\n",
              "    .dataframe thead th {\n",
              "        text-align: right;\n",
              "    }\n",
              "</style>\n",
              "<table border=\"1\" class=\"dataframe\">\n",
              "  <thead>\n",
              "    <tr style=\"text-align: right;\">\n",
              "      <th></th>\n",
              "      <th>Category</th>\n",
              "      <th>Resume</th>\n",
              "    </tr>\n",
              "  </thead>\n",
              "  <tbody>\n",
              "    <tr>\n",
              "      <th>0</th>\n",
              "      <td>Data Science</td>\n",
              "      <td>Skills * Programming Languages: Python (pandas...</td>\n",
              "    </tr>\n",
              "    <tr>\n",
              "      <th>1</th>\n",
              "      <td>Data Science</td>\n",
              "      <td>Education Details \\r\\nMay 2013 to May 2017 B.E...</td>\n",
              "    </tr>\n",
              "    <tr>\n",
              "      <th>2</th>\n",
              "      <td>Data Science</td>\n",
              "      <td>Areas of Interest Deep Learning, Control Syste...</td>\n",
              "    </tr>\n",
              "    <tr>\n",
              "      <th>3</th>\n",
              "      <td>Data Science</td>\n",
              "      <td>Skills â¢ R â¢ Python â¢ SAP HANA â¢ Table...</td>\n",
              "    </tr>\n",
              "    <tr>\n",
              "      <th>4</th>\n",
              "      <td>Data Science</td>\n",
              "      <td>Education Details \\r\\n MCA   YMCAUST,  Faridab...</td>\n",
              "    </tr>\n",
              "  </tbody>\n",
              "</table>\n",
              "</div>\n",
              "    <div class=\"colab-df-buttons\">\n",
              "\n",
              "  <div class=\"colab-df-container\">\n",
              "    <button class=\"colab-df-convert\" onclick=\"convertToInteractive('df-2e387bfd-350e-4174-ac26-2de257c3abd8')\"\n",
              "            title=\"Convert this dataframe to an interactive table.\"\n",
              "            style=\"display:none;\">\n",
              "\n",
              "  <svg xmlns=\"http://www.w3.org/2000/svg\" height=\"24px\" viewBox=\"0 -960 960 960\">\n",
              "    <path d=\"M120-120v-720h720v720H120Zm60-500h600v-160H180v160Zm220 220h160v-160H400v160Zm0 220h160v-160H400v160ZM180-400h160v-160H180v160Zm440 0h160v-160H620v160ZM180-180h160v-160H180v160Zm440 0h160v-160H620v160Z\"/>\n",
              "  </svg>\n",
              "    </button>\n",
              "\n",
              "  <style>\n",
              "    .colab-df-container {\n",
              "      display:flex;\n",
              "      gap: 12px;\n",
              "    }\n",
              "\n",
              "    .colab-df-convert {\n",
              "      background-color: #E8F0FE;\n",
              "      border: none;\n",
              "      border-radius: 50%;\n",
              "      cursor: pointer;\n",
              "      display: none;\n",
              "      fill: #1967D2;\n",
              "      height: 32px;\n",
              "      padding: 0 0 0 0;\n",
              "      width: 32px;\n",
              "    }\n",
              "\n",
              "    .colab-df-convert:hover {\n",
              "      background-color: #E2EBFA;\n",
              "      box-shadow: 0px 1px 2px rgba(60, 64, 67, 0.3), 0px 1px 3px 1px rgba(60, 64, 67, 0.15);\n",
              "      fill: #174EA6;\n",
              "    }\n",
              "\n",
              "    .colab-df-buttons div {\n",
              "      margin-bottom: 4px;\n",
              "    }\n",
              "\n",
              "    [theme=dark] .colab-df-convert {\n",
              "      background-color: #3B4455;\n",
              "      fill: #D2E3FC;\n",
              "    }\n",
              "\n",
              "    [theme=dark] .colab-df-convert:hover {\n",
              "      background-color: #434B5C;\n",
              "      box-shadow: 0px 1px 3px 1px rgba(0, 0, 0, 0.15);\n",
              "      filter: drop-shadow(0px 1px 2px rgba(0, 0, 0, 0.3));\n",
              "      fill: #FFFFFF;\n",
              "    }\n",
              "  </style>\n",
              "\n",
              "    <script>\n",
              "      const buttonEl =\n",
              "        document.querySelector('#df-2e387bfd-350e-4174-ac26-2de257c3abd8 button.colab-df-convert');\n",
              "      buttonEl.style.display =\n",
              "        google.colab.kernel.accessAllowed ? 'block' : 'none';\n",
              "\n",
              "      async function convertToInteractive(key) {\n",
              "        const element = document.querySelector('#df-2e387bfd-350e-4174-ac26-2de257c3abd8');\n",
              "        const dataTable =\n",
              "          await google.colab.kernel.invokeFunction('convertToInteractive',\n",
              "                                                    [key], {});\n",
              "        if (!dataTable) return;\n",
              "\n",
              "        const docLinkHtml = 'Like what you see? Visit the ' +\n",
              "          '<a target=\"_blank\" href=https://colab.research.google.com/notebooks/data_table.ipynb>data table notebook</a>'\n",
              "          + ' to learn more about interactive tables.';\n",
              "        element.innerHTML = '';\n",
              "        dataTable['output_type'] = 'display_data';\n",
              "        await google.colab.output.renderOutput(dataTable, element);\n",
              "        const docLink = document.createElement('div');\n",
              "        docLink.innerHTML = docLinkHtml;\n",
              "        element.appendChild(docLink);\n",
              "      }\n",
              "    </script>\n",
              "  </div>\n",
              "\n",
              "\n",
              "    <div id=\"df-97064764-9955-4bd5-8ceb-63b88ef4b79b\">\n",
              "      <button class=\"colab-df-quickchart\" onclick=\"quickchart('df-97064764-9955-4bd5-8ceb-63b88ef4b79b')\"\n",
              "                title=\"Suggest charts\"\n",
              "                style=\"display:none;\">\n",
              "\n",
              "<svg xmlns=\"http://www.w3.org/2000/svg\" height=\"24px\"viewBox=\"0 0 24 24\"\n",
              "     width=\"24px\">\n",
              "    <g>\n",
              "        <path d=\"M19 3H5c-1.1 0-2 .9-2 2v14c0 1.1.9 2 2 2h14c1.1 0 2-.9 2-2V5c0-1.1-.9-2-2-2zM9 17H7v-7h2v7zm4 0h-2V7h2v10zm4 0h-2v-4h2v4z\"/>\n",
              "    </g>\n",
              "</svg>\n",
              "      </button>\n",
              "\n",
              "<style>\n",
              "  .colab-df-quickchart {\n",
              "      --bg-color: #E8F0FE;\n",
              "      --fill-color: #1967D2;\n",
              "      --hover-bg-color: #E2EBFA;\n",
              "      --hover-fill-color: #174EA6;\n",
              "      --disabled-fill-color: #AAA;\n",
              "      --disabled-bg-color: #DDD;\n",
              "  }\n",
              "\n",
              "  [theme=dark] .colab-df-quickchart {\n",
              "      --bg-color: #3B4455;\n",
              "      --fill-color: #D2E3FC;\n",
              "      --hover-bg-color: #434B5C;\n",
              "      --hover-fill-color: #FFFFFF;\n",
              "      --disabled-bg-color: #3B4455;\n",
              "      --disabled-fill-color: #666;\n",
              "  }\n",
              "\n",
              "  .colab-df-quickchart {\n",
              "    background-color: var(--bg-color);\n",
              "    border: none;\n",
              "    border-radius: 50%;\n",
              "    cursor: pointer;\n",
              "    display: none;\n",
              "    fill: var(--fill-color);\n",
              "    height: 32px;\n",
              "    padding: 0;\n",
              "    width: 32px;\n",
              "  }\n",
              "\n",
              "  .colab-df-quickchart:hover {\n",
              "    background-color: var(--hover-bg-color);\n",
              "    box-shadow: 0 1px 2px rgba(60, 64, 67, 0.3), 0 1px 3px 1px rgba(60, 64, 67, 0.15);\n",
              "    fill: var(--button-hover-fill-color);\n",
              "  }\n",
              "\n",
              "  .colab-df-quickchart-complete:disabled,\n",
              "  .colab-df-quickchart-complete:disabled:hover {\n",
              "    background-color: var(--disabled-bg-color);\n",
              "    fill: var(--disabled-fill-color);\n",
              "    box-shadow: none;\n",
              "  }\n",
              "\n",
              "  .colab-df-spinner {\n",
              "    border: 2px solid var(--fill-color);\n",
              "    border-color: transparent;\n",
              "    border-bottom-color: var(--fill-color);\n",
              "    animation:\n",
              "      spin 1s steps(1) infinite;\n",
              "  }\n",
              "\n",
              "  @keyframes spin {\n",
              "    0% {\n",
              "      border-color: transparent;\n",
              "      border-bottom-color: var(--fill-color);\n",
              "      border-left-color: var(--fill-color);\n",
              "    }\n",
              "    20% {\n",
              "      border-color: transparent;\n",
              "      border-left-color: var(--fill-color);\n",
              "      border-top-color: var(--fill-color);\n",
              "    }\n",
              "    30% {\n",
              "      border-color: transparent;\n",
              "      border-left-color: var(--fill-color);\n",
              "      border-top-color: var(--fill-color);\n",
              "      border-right-color: var(--fill-color);\n",
              "    }\n",
              "    40% {\n",
              "      border-color: transparent;\n",
              "      border-right-color: var(--fill-color);\n",
              "      border-top-color: var(--fill-color);\n",
              "    }\n",
              "    60% {\n",
              "      border-color: transparent;\n",
              "      border-right-color: var(--fill-color);\n",
              "    }\n",
              "    80% {\n",
              "      border-color: transparent;\n",
              "      border-right-color: var(--fill-color);\n",
              "      border-bottom-color: var(--fill-color);\n",
              "    }\n",
              "    90% {\n",
              "      border-color: transparent;\n",
              "      border-bottom-color: var(--fill-color);\n",
              "    }\n",
              "  }\n",
              "</style>\n",
              "\n",
              "      <script>\n",
              "        async function quickchart(key) {\n",
              "          const quickchartButtonEl =\n",
              "            document.querySelector('#' + key + ' button');\n",
              "          quickchartButtonEl.disabled = true;  // To prevent multiple clicks.\n",
              "          quickchartButtonEl.classList.add('colab-df-spinner');\n",
              "          try {\n",
              "            const charts = await google.colab.kernel.invokeFunction(\n",
              "                'suggestCharts', [key], {});\n",
              "          } catch (error) {\n",
              "            console.error('Error during call to suggestCharts:', error);\n",
              "          }\n",
              "          quickchartButtonEl.classList.remove('colab-df-spinner');\n",
              "          quickchartButtonEl.classList.add('colab-df-quickchart-complete');\n",
              "        }\n",
              "        (() => {\n",
              "          let quickchartButtonEl =\n",
              "            document.querySelector('#df-97064764-9955-4bd5-8ceb-63b88ef4b79b button');\n",
              "          quickchartButtonEl.style.display =\n",
              "            google.colab.kernel.accessAllowed ? 'block' : 'none';\n",
              "        })();\n",
              "      </script>\n",
              "    </div>\n",
              "\n",
              "    </div>\n",
              "  </div>\n"
            ],
            "application/vnd.google.colaboratory.intrinsic+json": {
              "type": "dataframe",
              "variable_name": "df",
              "summary": "{\n  \"name\": \"df\",\n  \"rows\": 962,\n  \"fields\": [\n    {\n      \"column\": \"Category\",\n      \"properties\": {\n        \"dtype\": \"category\",\n        \"num_unique_values\": 25,\n        \"samples\": [\n          \"Civil Engineer\",\n          \"DevOps Engineer\",\n          \"Data Science\"\n        ],\n        \"semantic_type\": \"\",\n        \"description\": \"\"\n      }\n    },\n    {\n      \"column\": \"Resume\",\n      \"properties\": {\n        \"dtype\": \"category\",\n        \"num_unique_values\": 166,\n        \"samples\": [\n          \"KEY COMPETENCIES \\u00e2\\u009c\\u00b6Multi - Operations Management\\u00e2\\u009c\\u00b6People Management \\u00e2\\u009c\\u00b6Customer Services - Emails \\u00e2\\u009c\\u00b6 MIS \\u00e2\\u009c\\u00b6Vendor & Client Services Management\\u00e2\\u009c\\u00b6Cross Functional Coordination\\u00e2\\u009c\\u00b6Banking & Financial Services\\u00e2\\u009c\\u00b6 Transaction Monitoring * ATM Operations \\u00e2\\u009c\\u00b6 & Prepaid Card Operations (Pre-Issuance & Post-Issuance) \\u00e2\\u009c\\u00b6 POS Operations * JOB PROFILE & SKILLS: \\u00e2\\u0080\\u00a2 An effective communicator with excellent relationship building & interpersonal skills. Strong analytical, problem solving & organizational abilities. \\u00e2\\u0080\\u00a2 Extensive experience in managing operations with demonstrated leadership qualities & organisational skills during the tenure. \\u00e2\\u0080\\u00a2 Managing customer centric operations & ensuring customer satisfaction by achieving service quality norms. \\u00e2\\u0080\\u00a2 Analyzing of all operational problems, customer complaints and take preventive and corrective actions to resolve the same. \\u00e2\\u0080\\u00a2 Receive and respond to Key customer inquiries in an effective manner and provide relevant and timely information. \\u00e2\\u0080\\u00a2 Deft in steering banking back-end operations, analyzing risks and managing delinquencies with dexterity across applying techniques for maximizing recoveries and minimizing credit losses. \\u00e2\\u0080\\u00a2 Analyzed & identified training needs of the team members and developing, organizing and conducting training programs and manage bottom quartile team to improve their performance. \\u00e2\\u0080\\u00a2 Preparing and maintaining daily MIS reports to evaluate the performance and efficiency of the process relate to various verticals. \\u00e2\\u0080\\u00a2 Measuring the performance of the processes in terms of efficiency and effectiveness matrix and ensuring adherence to SLA. \\u00e2\\u0080\\u00a2 Major Activities Define processes for Field Services were monitored and necessary checks were executed and controlled. Also measured Vendor SLA by analyzing the TAT of vendors & the Client SLA provided to us. \\u00e2\\u0080\\u00a2 As per company procedures, handling & ensuring vendor's payment issues to be sorted out &payments are processed on quarterly basis. \\u00e2\\u0080\\u00a2 Appropriately plan and execute each skill of operations in accordance with the department's policies and procedures. \\u00e2\\u0080\\u00a2 Manage relationships with business team, software development team and other services to achieve project objectives. Different software Worked till now: - a. CTL prime - Axis Bank Credit Cards b. Insight - For POS Machine technical operations for Amex (MID & TID Generation- ATOS (Venture Infotek) c. Ticket Management System - TATA Communications Private Services Ltd (ATM - NOC Operations) d. Branch Portal (Yalamanchili Software Exports Ltd) - Prepaid Cards (SBI Bank & Zaggle Prepaid Oceans Services Ltd) Zaggle Prepaid Ocean Services Pvt Ltd Oct, 2017 to Till Date Designation: Manager - Operations (Payment Industry - Prepaid Cards - INR) Education Details \\r\\n  Commerce Mumbai, Maharashtra Mumbai University\\r\\nOperations Manager \\r\\n\\r\\nService Manager - Operations (Payment Industry - Prepaid Cards - INR & FTC)\\r\\nSkill Details \\r\\nOPERATIONS- Exprience - 73 months\\r\\nSATISFACTION- Exprience - 48 months\\r\\nTRAINING- Exprience - 24 months\\r\\nNOC- Exprience - 23 months\\r\\nPOINT OF SALE- Exprience - 20 monthsCompany Details \\r\\ncompany - Zaggle Prepaid Ocean Services Pvt Ltd\\r\\ndescription - Card Operations\\r\\ncompany - Yalamanchili Software Exports Ltd\\r\\ndescription - 24*7 Operations Pvt Ltd) Dec 2015 to Feb 2017\\r\\n\\r\\nDesignation: Service Manager - Operations (Payment Industry - Prepaid Cards - INR & FTC)\\r\\n\\r\\nKey Contributions: \\u00e2\\u0080\\u00a2 A result-oriented business professional in planning, executing& managing processes, improving efficiency of operations, team building and detailing process information to determine effective result into operations.\\r\\n\\u00e2\\u0080\\u00a2 Ensuring PINs generation (SLA) is maintained and chargeback cases are raised in perfect timeframe.\\r\\n\\u00e2\\u0080\\u00a2 Managing email customer services properly and ensuring the emails are replied properly. Also, ensuring transaction monitoring is properly managed 24/7.\\r\\n\\u00e2\\u0080\\u00a2 Assisting Bankers (SBI & Associated Banks) for their BCP plans by getting executed in the system with the help of DR-PR plans & vice versa or any other business requirements.\\r\\n\\u00e2\\u0080\\u00a2 Expertise in maintaining highest level of quality in operations; ensuring adherence to all the quality parameters and procedures as per the stringent norms.\\r\\n\\u00e2\\u0080\\u00a2 Lead, manage and supervise the execution of external audit engagements and responsible for presenting the findings & developing a quality reports to the senior Management and Clients.\\r\\n\\u00e2\\u0080\\u00a2 Coach/mentor (20) team members to perform at a higher level by giving opportunities, providing timely continuous feedback and working with staff to improve their communication, time management, decision making, organization, and analytical skills.\\r\\n\\u00e2\\u0080\\u00a2 Providing the solutions and services to the client in their own premises with aforesaid count of team members.\\r\\n\\u00e2\\u0080\\u00a2 Also ensuring end to end process of PR & DR as per client requirements (PR- DR & DR -PR) by interacting with internal & external stakeholders.\\r\\n\\u00e2\\u0080\\u00a2 Determining process gaps and designing & conducting training programs to enhance operational efficiency and retain talent by providing optimum opportunities for personal and professional growth.\\r\\ncompany - Credit Cards\\r\\ndescription - Ensured highest standard of customer satisfaction and quality service; developing new policies and procedures to improve based on customer feedback and resolving customer queries via correspondence, inbound calls & email channels with the strength of (12-16) Team members.\\r\\ncompany - AGS Transact Technologies Limited\\r\\ndescription - Key Contributions: Lead - SPOC to Banks\\r\\ncompany - TATA Communications Payment Solutions Ltd\\r\\ndescription - To make ATMs operational within TAT by analyzing the issue is technical or non-technical and also by interacting with internal & external stakeholders.\\r\\ncompany - Vertex Customer Solutions India Private Ltd\\r\\ndescription - Key Contributions: \\u00e2\\u0080\\u00a2 Build positive working relationship with all team members and clients by keeping Management informed   of KYC document collection & con-current audit progress, responding timely to Management inquiries, understanding the business and conducting self professionally.\\r\\ncompany - Financial Inclusion Network & Operations Limited\\r\\ndescription - Key Contributions: POS-Operations \\u00e2\\u0080\\u00a2 Cascading the adherence of process is strictly followed by team members & training them to reduce the downtime.\\r\\n\\u00e2\\u0080\\u00a2 Managing Stock of EDC Terminals \\u00e2\\u0080\\u00a2 Managing Deployments of terminals through Multiple teams \\u00e2\\u0080\\u00a2 Would have worked with multiple terminal make & model \\u00e2\\u0080\\u00a2 Managing Inward, Outward & QC of applications installed in the POS machines.\\r\\ncompany - Venture Infotek Private Ltd\\r\\ndescription - Key Contributions: POS-Operations\\r\\ncompany - Axis Bank Ltd - Customer Services\\r\\ndescription - Aug 2006 to Oct 2009 (Ma-Foi&I- smart)\\r\\n\\r\\nDesignation: Team Leader/Executive - Emails, Phone Banking & Correspondence Unit (Snail Mails)\",\n          \"Skill Set: Hadoop, Map Reduce, HDFS, Hive, Sqoop, java. Duration: 2016 to 2017. Role: Hadoop Developer Rplus offers an quick, simple and powerful cloud based Solution, Demand Sense to accurately predict demand for your product in all your markets which Combines Enterprise and External Data to predict demand more accurately through Uses Social Conversation and Sentiments to derive demand and Identifies significant drivers of sale out of hordes of factors that Selects the best suited model out of multiple forecasting models for each product. Responsibilities: \\u00e2\\u0080\\u00a2 Involved in deploying the product for customers, gathering requirements and algorithm optimization at backend of the product. \\u00e2\\u0080\\u00a2 Load and transform Large Datasets of structured semi structured. \\u00e2\\u0080\\u00a2 Responsible to manage data coming from different sources and application \\u00e2\\u0080\\u00a2 Supported Map Reduce Programs those are running on the cluster \\u00e2\\u0080\\u00a2 Involved in creating Hive tables, loading with data and writing hive queries which will run internally in map reduce way.Education Details \\r\\n\\r\\nHadoop Developer \\r\\n\\r\\nHadoop Developer - Braindatawire\\r\\nSkill Details \\r\\nAPACHE HADOOP HDFS- Exprience - 49 months\\r\\nAPACHE HADOOP SQOOP- Exprience - 49 months\\r\\nHadoop- Exprience - 49 months\\r\\nHADOOP- Exprience - 49 months\\r\\nHADOOP DISTRIBUTED FILE SYSTEM- Exprience - 49 monthsCompany Details \\r\\ncompany - Braindatawire\\r\\ndescription - Technical Skills:\\r\\n\\u00e2\\u0080\\u00a2   Programming: Core Java, Map Reduce, Scala\\r\\n\\u00e2\\u0080\\u00a2   Hadoop Tools: HDFS, Spark, Map Reduce, Sqoop, Hive, Hbase\\r\\n\\u00e2\\u0080\\u00a2   Database: MySQL, Oracle\\r\\n\\u00e2\\u0080\\u00a2   Scripting: Shell Scripting\\r\\n\\u00e2\\u0080\\u00a2   IDE: Eclipse\\r\\n\\u00e2\\u0080\\u00a2   Operating Systems: Linux (CentOS), Windows\\r\\n\\u00e2\\u0080\\u00a2   Source Control: Git (Github)\",\n          \"IT Skills: Area Exposure Modeling Tool: Bizagi, MS Visio Prototyping Tool: Indigo Studio. Documentation: MS Office (MS Word, MS Excel, MS Power Point) Testing Proficiency: Smoke, Sanity, Integration, Functional, Acceptance and UI Methodology implemented: Waterfall, Agile (Scrum) Database: SQL Testing Tool: HPQC Business Exposure Education Details \\r\\n Bachelor Of Computer Engineering Computer Engineering Mumbai, Maharashtra Thadomal Shahani Engineering college\\r\\n Diploma Computer Engineering Ulhasnagar, Maharashtra Institute of Technology\\r\\n Secondary School Certificate  Ulhasnagar, Maharashtra New English High School\\r\\nSenior Business Analyst - RPA \\r\\n\\r\\nSenior Business Analyst - RPA - Hexaware Technologies\\r\\nSkill Details \\r\\nDOCUMENTATION- Exprience - 47 months\\r\\nTESTING- Exprience - 29 months\\r\\nINTEGRATION- Exprience - 25 months\\r\\nINTEGRATOR- Exprience - 25 months\\r\\nPROTOTYPE- Exprience - 13 monthsCompany Details \\r\\ncompany - Hexaware Technologies\\r\\ndescription - Working as a RPA Business Analyst\\r\\ncompany - BBH- Brown Brothers Harriman & Co\\r\\ndescription - is a private bank that provides commercial banking, investment management, brokerage, and trust services to private companies and individuals. It also performs merger advisory, foreign exchange, custody services, commercial banking, and corporate financing services.\\r\\n\\r\\nResponsibilities: \\u00e2\\u0080\\u00a2 Performed Automation Assessment of various Processes and identified processes which can be candidates of RPA.\\r\\n\\u00e2\\u0080\\u00a2 Conducting Assessment that involves an initial Understanding of the Existing System, their technology, processes, Usage of the tools, Feasibility of tool with automation tool along with automation ROI analysis.\\r\\n\\u00e2\\u0080\\u00a2 Preparing the Automation Potential Sheet which describes the steps in the process, the volume and frequency of the transaction, the AHT taken by SME to perform the process and depending on the steps that could be automated, Automation potential and the manual efforts that will be saved are calculated.\\r\\nCalculating the complexity of the Process which is considered for automation and depending on all these factors Number of Bots and Number of Automation tool Licenses are determined.\\r\\n\\u00e2\\u0080\\u00a2 Implementing a Proof of Concept (POC) to Validate Feasibility by executing the selected critical use cases for conducting a POC which will helps to identify financial and operational benefits and provide recommendations regarding the actual need for complete automation.\\r\\n\\u00e2\\u0080\\u00a2 Gathering business requirements by conducting detailed interviews with business users, stakeholders, and Subject Matter Experts (SME's) \\u00e2\\u0080\\u00a2 Preparing Business Requirement Document and then converted Business requirements into Functional Requirements Specification.\\r\\n \\u00e2\\u0080\\u00a2 Constructing prototype early toward a design acceptable to the customer and feasible.\\r\\n\\u00e2\\u0080\\u00a2 Assisting in designing test plans, test scenarios and test cases for integration, regression, and user acceptance testing (UAT) to improve the overall quality of the Automation.\\r\\n\\u00e2\\u0080\\u00a2 Participating regularly in Walkthroughs and Review meetings with Project Manager, QA Engineers, and Development team.\\r\\n\\u00e2\\u0080\\u00a2 Regularly interacting with offshore and onshore development teams.\\r\\ncompany - FADV - First Advantage\\r\\ndescription - is a criminal background check company that delivers global solutions ranging from employment screenings to background checks.\\r\\nThe following are the processes which were covered:\\r\\nEmail Process, Research Process, Review Process.\\r\\n\\r\\nResponsibilities: \\u00e2\\u0080\\u00a2 Requirement Gathering through conducting Interviews & Brainstorming sessions with stakeholders \\u00e2\\u0080\\u00a2 To develop decision models and execute those rules as per the use case specifications.\\r\\n\\u00e2\\u0080\\u00a2 To Test/validate the decision models against document test data.\\r\\n\\u00e2\\u0080\\u00a2 To maintain and enhance the decision models for changes in regulations as per use case specifications.\\r\\n\\u00e2\\u0080\\u00a2 Responsible for performing the business research that will make a business growth.\\r\\n\\u00e2\\u0080\\u00a2 Developing a clear understanding of existing business functions and processes.\\r\\n\\u00e2\\u0080\\u00a2 Effectively communicate with the onsite clients for the queries, suggestions, and update.\\r\\n\\u00e2\\u0080\\u00a2 Giving suggestions to enhance the current processes.\\r\\n\\u00e2\\u0080\\u00a2 Identifying areas for process improvement.\\r\\n\\u00e2\\u0080\\u00a2 Flagging up potential problems at an early stage.\\r\\n\\u00e2\\u0080\\u00a2 Preparing PowerPoint presentations and documents for business meetings.\\r\\n\\u00e2\\u0080\\u00a2 Using any information gathered to write up detailed reports.\\r\\n\\u00e2\\u0080\\u00a2 Highlighting risks and issues that could impact project delivery.\\r\\n\\u00e2\\u0080\\u00a2 Able to work accurately.\\r\\n\\u00e2\\u0080\\u00a2 To develop and maintain documentation for internal team training and client end user operations.\\r\\n\\u00e2\\u0080\\u00a2 To work efficiently with team members and across teams.\\r\\n\\u00e2\\u0080\\u00a2 To mentor and train junior team members.\\r\\ncompany - Clinical Testing, Lab Work and Diagnostic Testing\\r\\ndescription - IQVIA provides services to its customers this includes: Clinical Testing, Lab Work and Diagnostic Testing under clinical trial. These customers need to pay to IQVIA and aging details and invoices are generated for the same.\\r\\nThe following are the processes which were covered:\\r\\n\\r\\nTracking Payments, Automated Real Time Metrics Reporting (Dashboard), Past Due Notifications, AR Statements, Credit/Rebill.\\r\\nResponsibilities: \\u00e2\\u0080\\u00a2 Conducting meetings with clients and key stakeholders to gather requirements, analyze, finalize and have formal sign-offs from approvers Gather and perform analysis of the business requirements \\u00e2\\u0080\\u00a2 Translating the business requirements into the Business Requirement Document [BRD], Functional Requirement Document [FRD].\\r\\n\\u00e2\\u0080\\u00a2 Facilitating meetings with the appropriate subject matter experts in both business and technology teams \\u00e2\\u0080\\u00a2 Coordinating with business user community for the execution of user acceptance test as well as tracking issues \\u00e2\\u0080\\u00a2 Working, collaborating and coordinating with Offshore and Onsite team members to fulfill the BA responsibilities from project initiation to Post-Implementation \\u00e2\\u0080\\u00a2 Reviewing the test scripts with business users as well as technology team. Execute test scripts with expected results for the System Integration Test (SIT) and User Acceptance Test (UAT) \\u00e2\\u0080\\u00a2 Coordinating and conducting the Production Acceptance Testing (PAT) with the business users \\u00e2\\u0080\\u00a2 Creating flow diagrams, structure charts, and other types of system or process representations \\u00e2\\u0080\\u00a2 Managing changes to requirements and baseline through a change control process \\u00e2\\u0080\\u00a2 Utilizing standard methods, design and testing tools throughout project development life cycle \\u00e2\\u0080\\u00a2 Work closely with the operational functional teams, operations management, and personnel, and various technology teams to facilitate a shared understanding of requirements and priorities across all areas\\r\\ncompany - Eduavenir IT Solution\\r\\ndescription - Project: M.B.M.S\\r\\n\\r\\nM.B.M.S. - is an Inventory management application that allows user to manage inventory details of different warehouses, having different products located at various locations and help extract what goods have been procured, sold or returned by customers. It generates automated invoicesalong withcustomized reports. It also managescustomer complaint and resolution system implementation along with automated MIS on monthly basis.Sales and forecastingis also developed on MIS System and the streamlining of process of warehousing and dispatch along with online proof of delivery management system (POD documentation) is generated.\\r\\n\\r\\nResponsibilities: \\u00e2\\u0080\\u00a2 Participate in requirement gathering discussion with client to understand the flow of business processes \\u00e2\\u0080\\u00a2 Analyze the requirements and determine the core processes, develop Process Documentation and ensure to stay up-to-date in conjunction with on-going changes \\u00e2\\u0080\\u00a2 Participate in process flow analysis and preparing BRD, SRS.\\r\\n\\u00e2\\u0080\\u00a2 Coordinating with developers, designers & operations teams for various nuances of the project, communicate the stakeholder requirements from requirement /enhancement to implementation and finally deliver the same within estimated timeframe.\\r\\n\\u00e2\\u0080\\u00a2 Support UAT by reviewing test cases, manage version control of documents, software builds.\\r\\n\\u00e2\\u0080\\u00a2 Coordinate with the stakeholders for UAT sign off and coordinate internally for production movement till Golive stage of the application.\\r\\n\\u00e2\\u0080\\u00a2 Provide demo and training to internal and end user using PowerPoint presentation.\\r\\n\\u00e2\\u0080\\u00a2 Resolving project functional &technical issues during UAT.\\r\\n\\u00e2\\u0080\\u00a2 Prioritizing the Production bugs and resolving the same within the estimated timeframe.\\r\\n\\u00e2\\u0080\\u00a2 Preparing Project Status Report and Production Bugs Status to all the stakeholders.\\r\\n\\u00e2\\u0080\\u00a2 Promoting and Networking for online trading platform.\\r\\n\\u00e2\\u0080\\u00a2 Designing query sheet for obtaining and comparison of quotes from various vendors.\\r\\n\\u00e2\\u0080\\u00a2 Development of product codes / material codes for inventory management (Master Data Management)\\r\\ncompany - CAPGEMINI Head Office\\r\\ndescription - Type: Mobile and Device Testing.       Duration: January 2014 - August 2014\\r\\n\\r\\nFollet - An application which takes an electronic request from the user for the books he requires from a particular follet store. This detailed information about books that will include the name of the book, its price, the date of the transaction and the parties involved which will then be sent to follet stores. User then create request for one or more books for a given date. This request is then processed further and user gets a mail of the date when he will be provided with that book.\\r\\n\\r\\nResponsibilities: \\u00e2\\u0080\\u00a2 Understanding the needs and business requirements.\\r\\n\\u00e2\\u0080\\u00a2 Preparing BRD, SRS by eliciting all the requirements from the client and SMEs \\u00e2\\u0080\\u00a2 Understanding the dependency of the modules in the system \\u00e2\\u0080\\u00a2 Preparation of test plan for Unit level and Integration level.\\r\\n\\u00e2\\u0080\\u00a2 Preparation and execution of test cases.\\r\\n\\u00e2\\u0080\\u00a2 Defect tracking, Issue Resolution, Risk Monitoring, Status Tracking, Reporting and Follow-up.\\r\\n\\u00e2\\u0080\\u00a2 Preparation of Test Completion report.\\r\\ncompany - CAPGEMINI Head Office\\r\\ndescription - \\r\\ncompany - CAPGEMINI Head Office\\r\\ndescription - Humana is a health care insurance project of U.S. which deals with supplying various medicines to citizens as per the doctor's reference and patient's insurance policy. This application keeps track of all the medicines user has consumed in the past and generates a patient history. A citizen is given a drug only after the doctor's reference so the doctor's information is also linked with the patient's history.\\r\\n\\r\\nResponsibilities: \\u00e2\\u0080\\u00a2 Understanding the requirements and getting clarifications from client.\\r\\n\\u00e2\\u0080\\u00a2 Involved in writing test cases based on test scenarios and execute them.\\r\\n\\u00e2\\u0080\\u00a2 Ensuring Test Coverage using Requirement Traceability Matrix (RTM) \\u00e2\\u0080\\u00a2 Preparation of Test Completion report.\\r\\ncompany - CAPGEMINI Head Office\\r\\ndescription - Testing Trends WQR (World Quality Report) is an application which allows the users to take a survey on different methods and technologies used for testing. Users can choose to answer any type of questions under three different categories. Users have a facility to search, view and export the data to excel. Also, users get daily and weekly reports through email about the new trends in testing implemented around the globe. Testing Trends WQR app is available on Android and IOS platforms.\\r\\n\\r\\nResponsibilities: \\u00e2\\u0080\\u00a2 Understanding the requirements and getting clarifications from client.\\r\\n\\u00e2\\u0080\\u00a2 Writing test cases based on test scenarios and executed them.\\r\\n\\u00e2\\u0080\\u00a2 Performing different types of testing such as Functional, Integration, System, and UAT.\\r\\n\\u00e2\\u0080\\u00a2 Defect resolution and maintenance of the application.\"\n        ],\n        \"semantic_type\": \"\",\n        \"description\": \"\"\n      }\n    }\n  ]\n}"
            }
          },
          "metadata": {},
          "execution_count": 9
        }
      ]
    },
    {
      "cell_type": "markdown",
      "source": [
        "\n",
        "\n",
        "---\n",
        "\n"
      ],
      "metadata": {
        "id": "bY6yKOJO4Y9g"
      }
    },
    {
      "cell_type": "markdown",
      "source": [
        "**$\\LARGE \\text{INSIGHTS INTO THE DATA}$**"
      ],
      "metadata": {
        "id": "lNjCnizUyB-H"
      }
    },
    {
      "cell_type": "markdown",
      "source": [
        "To gain some quick insights about the data, we use the .describe() method."
      ],
      "metadata": {
        "id": "LcwLIqvbw9n0"
      }
    },
    {
      "cell_type": "code",
      "source": [
        "df.describe()"
      ],
      "metadata": {
        "colab": {
          "base_uri": "https://localhost:8080/",
          "height": 175
        },
        "id": "Fp6LL7g3eiwP",
        "outputId": "e99316ac-0a0c-4f8d-bab0-0c5965ff98fd"
      },
      "execution_count": null,
      "outputs": [
        {
          "output_type": "execute_result",
          "data": {
            "text/plain": [
              "              Category                                             Resume\n",
              "count              962                                                962\n",
              "unique              25                                                166\n",
              "top     Java Developer  Technical Skills Web Technologies: Angular JS,...\n",
              "freq                84                                                 18"
            ],
            "text/html": [
              "\n",
              "  <div id=\"df-2e51b35c-38e7-498d-8107-444f068d4ea2\" class=\"colab-df-container\">\n",
              "    <div>\n",
              "<style scoped>\n",
              "    .dataframe tbody tr th:only-of-type {\n",
              "        vertical-align: middle;\n",
              "    }\n",
              "\n",
              "    .dataframe tbody tr th {\n",
              "        vertical-align: top;\n",
              "    }\n",
              "\n",
              "    .dataframe thead th {\n",
              "        text-align: right;\n",
              "    }\n",
              "</style>\n",
              "<table border=\"1\" class=\"dataframe\">\n",
              "  <thead>\n",
              "    <tr style=\"text-align: right;\">\n",
              "      <th></th>\n",
              "      <th>Category</th>\n",
              "      <th>Resume</th>\n",
              "    </tr>\n",
              "  </thead>\n",
              "  <tbody>\n",
              "    <tr>\n",
              "      <th>count</th>\n",
              "      <td>962</td>\n",
              "      <td>962</td>\n",
              "    </tr>\n",
              "    <tr>\n",
              "      <th>unique</th>\n",
              "      <td>25</td>\n",
              "      <td>166</td>\n",
              "    </tr>\n",
              "    <tr>\n",
              "      <th>top</th>\n",
              "      <td>Java Developer</td>\n",
              "      <td>Technical Skills Web Technologies: Angular JS,...</td>\n",
              "    </tr>\n",
              "    <tr>\n",
              "      <th>freq</th>\n",
              "      <td>84</td>\n",
              "      <td>18</td>\n",
              "    </tr>\n",
              "  </tbody>\n",
              "</table>\n",
              "</div>\n",
              "    <div class=\"colab-df-buttons\">\n",
              "\n",
              "  <div class=\"colab-df-container\">\n",
              "    <button class=\"colab-df-convert\" onclick=\"convertToInteractive('df-2e51b35c-38e7-498d-8107-444f068d4ea2')\"\n",
              "            title=\"Convert this dataframe to an interactive table.\"\n",
              "            style=\"display:none;\">\n",
              "\n",
              "  <svg xmlns=\"http://www.w3.org/2000/svg\" height=\"24px\" viewBox=\"0 -960 960 960\">\n",
              "    <path d=\"M120-120v-720h720v720H120Zm60-500h600v-160H180v160Zm220 220h160v-160H400v160Zm0 220h160v-160H400v160ZM180-400h160v-160H180v160Zm440 0h160v-160H620v160ZM180-180h160v-160H180v160Zm440 0h160v-160H620v160Z\"/>\n",
              "  </svg>\n",
              "    </button>\n",
              "\n",
              "  <style>\n",
              "    .colab-df-container {\n",
              "      display:flex;\n",
              "      gap: 12px;\n",
              "    }\n",
              "\n",
              "    .colab-df-convert {\n",
              "      background-color: #E8F0FE;\n",
              "      border: none;\n",
              "      border-radius: 50%;\n",
              "      cursor: pointer;\n",
              "      display: none;\n",
              "      fill: #1967D2;\n",
              "      height: 32px;\n",
              "      padding: 0 0 0 0;\n",
              "      width: 32px;\n",
              "    }\n",
              "\n",
              "    .colab-df-convert:hover {\n",
              "      background-color: #E2EBFA;\n",
              "      box-shadow: 0px 1px 2px rgba(60, 64, 67, 0.3), 0px 1px 3px 1px rgba(60, 64, 67, 0.15);\n",
              "      fill: #174EA6;\n",
              "    }\n",
              "\n",
              "    .colab-df-buttons div {\n",
              "      margin-bottom: 4px;\n",
              "    }\n",
              "\n",
              "    [theme=dark] .colab-df-convert {\n",
              "      background-color: #3B4455;\n",
              "      fill: #D2E3FC;\n",
              "    }\n",
              "\n",
              "    [theme=dark] .colab-df-convert:hover {\n",
              "      background-color: #434B5C;\n",
              "      box-shadow: 0px 1px 3px 1px rgba(0, 0, 0, 0.15);\n",
              "      filter: drop-shadow(0px 1px 2px rgba(0, 0, 0, 0.3));\n",
              "      fill: #FFFFFF;\n",
              "    }\n",
              "  </style>\n",
              "\n",
              "    <script>\n",
              "      const buttonEl =\n",
              "        document.querySelector('#df-2e51b35c-38e7-498d-8107-444f068d4ea2 button.colab-df-convert');\n",
              "      buttonEl.style.display =\n",
              "        google.colab.kernel.accessAllowed ? 'block' : 'none';\n",
              "\n",
              "      async function convertToInteractive(key) {\n",
              "        const element = document.querySelector('#df-2e51b35c-38e7-498d-8107-444f068d4ea2');\n",
              "        const dataTable =\n",
              "          await google.colab.kernel.invokeFunction('convertToInteractive',\n",
              "                                                    [key], {});\n",
              "        if (!dataTable) return;\n",
              "\n",
              "        const docLinkHtml = 'Like what you see? Visit the ' +\n",
              "          '<a target=\"_blank\" href=https://colab.research.google.com/notebooks/data_table.ipynb>data table notebook</a>'\n",
              "          + ' to learn more about interactive tables.';\n",
              "        element.innerHTML = '';\n",
              "        dataTable['output_type'] = 'display_data';\n",
              "        await google.colab.output.renderOutput(dataTable, element);\n",
              "        const docLink = document.createElement('div');\n",
              "        docLink.innerHTML = docLinkHtml;\n",
              "        element.appendChild(docLink);\n",
              "      }\n",
              "    </script>\n",
              "  </div>\n",
              "\n",
              "\n",
              "    <div id=\"df-41e41e3c-85e4-4c82-980e-dd7f8f866325\">\n",
              "      <button class=\"colab-df-quickchart\" onclick=\"quickchart('df-41e41e3c-85e4-4c82-980e-dd7f8f866325')\"\n",
              "                title=\"Suggest charts\"\n",
              "                style=\"display:none;\">\n",
              "\n",
              "<svg xmlns=\"http://www.w3.org/2000/svg\" height=\"24px\"viewBox=\"0 0 24 24\"\n",
              "     width=\"24px\">\n",
              "    <g>\n",
              "        <path d=\"M19 3H5c-1.1 0-2 .9-2 2v14c0 1.1.9 2 2 2h14c1.1 0 2-.9 2-2V5c0-1.1-.9-2-2-2zM9 17H7v-7h2v7zm4 0h-2V7h2v10zm4 0h-2v-4h2v4z\"/>\n",
              "    </g>\n",
              "</svg>\n",
              "      </button>\n",
              "\n",
              "<style>\n",
              "  .colab-df-quickchart {\n",
              "      --bg-color: #E8F0FE;\n",
              "      --fill-color: #1967D2;\n",
              "      --hover-bg-color: #E2EBFA;\n",
              "      --hover-fill-color: #174EA6;\n",
              "      --disabled-fill-color: #AAA;\n",
              "      --disabled-bg-color: #DDD;\n",
              "  }\n",
              "\n",
              "  [theme=dark] .colab-df-quickchart {\n",
              "      --bg-color: #3B4455;\n",
              "      --fill-color: #D2E3FC;\n",
              "      --hover-bg-color: #434B5C;\n",
              "      --hover-fill-color: #FFFFFF;\n",
              "      --disabled-bg-color: #3B4455;\n",
              "      --disabled-fill-color: #666;\n",
              "  }\n",
              "\n",
              "  .colab-df-quickchart {\n",
              "    background-color: var(--bg-color);\n",
              "    border: none;\n",
              "    border-radius: 50%;\n",
              "    cursor: pointer;\n",
              "    display: none;\n",
              "    fill: var(--fill-color);\n",
              "    height: 32px;\n",
              "    padding: 0;\n",
              "    width: 32px;\n",
              "  }\n",
              "\n",
              "  .colab-df-quickchart:hover {\n",
              "    background-color: var(--hover-bg-color);\n",
              "    box-shadow: 0 1px 2px rgba(60, 64, 67, 0.3), 0 1px 3px 1px rgba(60, 64, 67, 0.15);\n",
              "    fill: var(--button-hover-fill-color);\n",
              "  }\n",
              "\n",
              "  .colab-df-quickchart-complete:disabled,\n",
              "  .colab-df-quickchart-complete:disabled:hover {\n",
              "    background-color: var(--disabled-bg-color);\n",
              "    fill: var(--disabled-fill-color);\n",
              "    box-shadow: none;\n",
              "  }\n",
              "\n",
              "  .colab-df-spinner {\n",
              "    border: 2px solid var(--fill-color);\n",
              "    border-color: transparent;\n",
              "    border-bottom-color: var(--fill-color);\n",
              "    animation:\n",
              "      spin 1s steps(1) infinite;\n",
              "  }\n",
              "\n",
              "  @keyframes spin {\n",
              "    0% {\n",
              "      border-color: transparent;\n",
              "      border-bottom-color: var(--fill-color);\n",
              "      border-left-color: var(--fill-color);\n",
              "    }\n",
              "    20% {\n",
              "      border-color: transparent;\n",
              "      border-left-color: var(--fill-color);\n",
              "      border-top-color: var(--fill-color);\n",
              "    }\n",
              "    30% {\n",
              "      border-color: transparent;\n",
              "      border-left-color: var(--fill-color);\n",
              "      border-top-color: var(--fill-color);\n",
              "      border-right-color: var(--fill-color);\n",
              "    }\n",
              "    40% {\n",
              "      border-color: transparent;\n",
              "      border-right-color: var(--fill-color);\n",
              "      border-top-color: var(--fill-color);\n",
              "    }\n",
              "    60% {\n",
              "      border-color: transparent;\n",
              "      border-right-color: var(--fill-color);\n",
              "    }\n",
              "    80% {\n",
              "      border-color: transparent;\n",
              "      border-right-color: var(--fill-color);\n",
              "      border-bottom-color: var(--fill-color);\n",
              "    }\n",
              "    90% {\n",
              "      border-color: transparent;\n",
              "      border-bottom-color: var(--fill-color);\n",
              "    }\n",
              "  }\n",
              "</style>\n",
              "\n",
              "      <script>\n",
              "        async function quickchart(key) {\n",
              "          const quickchartButtonEl =\n",
              "            document.querySelector('#' + key + ' button');\n",
              "          quickchartButtonEl.disabled = true;  // To prevent multiple clicks.\n",
              "          quickchartButtonEl.classList.add('colab-df-spinner');\n",
              "          try {\n",
              "            const charts = await google.colab.kernel.invokeFunction(\n",
              "                'suggestCharts', [key], {});\n",
              "          } catch (error) {\n",
              "            console.error('Error during call to suggestCharts:', error);\n",
              "          }\n",
              "          quickchartButtonEl.classList.remove('colab-df-spinner');\n",
              "          quickchartButtonEl.classList.add('colab-df-quickchart-complete');\n",
              "        }\n",
              "        (() => {\n",
              "          let quickchartButtonEl =\n",
              "            document.querySelector('#df-41e41e3c-85e4-4c82-980e-dd7f8f866325 button');\n",
              "          quickchartButtonEl.style.display =\n",
              "            google.colab.kernel.accessAllowed ? 'block' : 'none';\n",
              "        })();\n",
              "      </script>\n",
              "    </div>\n",
              "\n",
              "    </div>\n",
              "  </div>\n"
            ],
            "application/vnd.google.colaboratory.intrinsic+json": {
              "type": "dataframe",
              "summary": "{\n  \"name\": \"df\",\n  \"rows\": 4,\n  \"fields\": [\n    {\n      \"column\": \"Category\",\n      \"properties\": {\n        \"dtype\": \"string\",\n        \"num_unique_values\": 4,\n        \"samples\": [\n          25,\n          \"84\",\n          \"962\"\n        ],\n        \"semantic_type\": \"\",\n        \"description\": \"\"\n      }\n    },\n    {\n      \"column\": \"Resume\",\n      \"properties\": {\n        \"dtype\": \"string\",\n        \"num_unique_values\": 4,\n        \"samples\": [\n          166,\n          \"18\",\n          \"962\"\n        ],\n        \"semantic_type\": \"\",\n        \"description\": \"\"\n      }\n    }\n  ]\n}"
            }
          },
          "metadata": {},
          "execution_count": 10
        }
      ]
    },
    {
      "cell_type": "code",
      "source": [
        "df.shape"
      ],
      "metadata": {
        "colab": {
          "base_uri": "https://localhost:8080/"
        },
        "id": "0u26zdsqe5pd",
        "outputId": "53966875-261f-4a3d-ceb9-a08bd4d6a37c"
      },
      "execution_count": null,
      "outputs": [
        {
          "output_type": "execute_result",
          "data": {
            "text/plain": [
              "(962, 2)"
            ]
          },
          "metadata": {},
          "execution_count": 11
        }
      ]
    },
    {
      "cell_type": "markdown",
      "source": [
        "The count for both features is equal to the number of samples.  \n",
        "So, we conclude that the data has no missing values, hence will need no imputing."
      ],
      "metadata": {
        "id": "FIKgb9dFxXA4"
      }
    },
    {
      "cell_type": "markdown",
      "source": [
        "We need to extract useful features from the resume text.  \n",
        "For that, it is necessary that we have knowledge of the job categories themselves."
      ],
      "metadata": {
        "id": "4nm5-jrryOq4"
      }
    },
    {
      "cell_type": "code",
      "source": [
        "df['Category'].unique()"
      ],
      "metadata": {
        "colab": {
          "base_uri": "https://localhost:8080/"
        },
        "id": "nnlkTm41cBIo",
        "outputId": "ade43237-a5e8-4fdc-b7db-35a9bff71e55"
      },
      "execution_count": null,
      "outputs": [
        {
          "output_type": "execute_result",
          "data": {
            "text/plain": [
              "array(['Data Science', 'HR', 'Advocate', 'Arts', 'Web Designing',\n",
              "       'Mechanical Engineer', 'Sales', 'Health and fitness',\n",
              "       'Civil Engineer', 'Java Developer', 'Business Analyst',\n",
              "       'SAP Developer', 'Automation Testing', 'Electrical Engineering',\n",
              "       'Operations Manager', 'Python Developer', 'DevOps Engineer',\n",
              "       'Network Security Engineer', 'PMO', 'Database', 'Hadoop',\n",
              "       'ETL Developer', 'DotNet Developer', 'Blockchain', 'Testing'],\n",
              "      dtype=object)"
            ]
          },
          "metadata": {},
          "execution_count": 12
        }
      ]
    },
    {
      "cell_type": "markdown",
      "source": [
        "Needless to say, for the majority of the jobs, three features play the most vital part in getting shortlisted.  \n",
        "\n",
        "\n",
        "*   Skills: Whether the candidate is familiar with the tech tools/stack used in   \n",
        "the job.\n",
        "*   Projects: Whether the candidate has used his knowlegde in building projects   \n",
        "that may be employable in the respective industry.\n",
        "*   Experience: Ofcourse, if the candidate already has some industry experience   \n",
        "under his belt, it will increase his chances of getting shortlisted.\n",
        "\n",
        "\n",
        "\n",
        "\n"
      ],
      "metadata": {
        "id": "dYsbAvESygKi"
      }
    },
    {
      "cell_type": "markdown",
      "source": [
        "We are still not quite familiar with how exactly the resume texts look like in this dataset.  \n",
        "Let us take a look at two of them, so we know what we are dealing with."
      ],
      "metadata": {
        "id": "3NpkUPh6zaRi"
      }
    },
    {
      "cell_type": "markdown",
      "source": [
        "\n",
        "\n",
        "---\n",
        "\n"
      ],
      "metadata": {
        "id": "tFiXNsaW4bkK"
      }
    },
    {
      "cell_type": "markdown",
      "source": [
        "**$\\Large \\text{DATA SCIENCE RESUME}$**"
      ],
      "metadata": {
        "id": "7obhfH6RzwoA"
      }
    },
    {
      "cell_type": "code",
      "source": [
        "df['Resume'][0]"
      ],
      "metadata": {
        "colab": {
          "base_uri": "https://localhost:8080/",
          "height": 123
        },
        "id": "og0STcIVeZ__",
        "outputId": "4071615a-c5ad-4364-cba9-83cf1dce10db"
      },
      "execution_count": null,
      "outputs": [
        {
          "output_type": "execute_result",
          "data": {
            "text/plain": [
              "'Skills * Programming Languages: Python (pandas, numpy, scipy, scikit-learn, matplotlib), Sql, Java, JavaScript/JQuery. * Machine learning: Regression, SVM, NaÃ¯ve Bayes, KNN, Random Forest, Decision Trees, Boosting techniques, Cluster Analysis, Word Embedding, Sentiment Analysis, Natural Language processing, Dimensionality reduction, Topic Modelling (LDA, NMF), PCA & Neural Nets. * Database Visualizations: Mysql, SqlServer, Cassandra, Hbase, ElasticSearch D3.js, DC.js, Plotly, kibana, matplotlib, ggplot, Tableau. * Others: Regular Expression, HTML, CSS, Angular 6, Logstash, Kafka, Python Flask, Git, Docker, computer vision - Open CV and understanding of Deep learning.Education Details \\r\\n\\r\\nData Science Assurance Associate \\r\\n\\r\\nData Science Assurance Associate - Ernst & Young LLP\\r\\nSkill Details \\r\\nJAVASCRIPT- Exprience - 24 months\\r\\njQuery- Exprience - 24 months\\r\\nPython- Exprience - 24 monthsCompany Details \\r\\ncompany - Ernst & Young LLP\\r\\ndescription - Fraud Investigations and Dispute Services   Assurance\\r\\nTECHNOLOGY ASSISTED REVIEW\\r\\nTAR (Technology Assisted Review) assists in accelerating the review process and run analytics and generate reports.\\r\\n* Core member of a team helped in developing automated review platform tool from scratch for assisting E discovery domain, this tool implements predictive coding and topic modelling by automating reviews, resulting in reduced labor costs and time spent during the lawyers review.\\r\\n* Understand the end to end flow of the solution, doing research and development for classification models, predictive analysis and mining of the information present in text data. Worked on analyzing the outputs and precision monitoring for the entire tool.\\r\\n* TAR assists in predictive coding, topic modelling from the evidence by following EY standards. Developed the classifier models in order to identify \"red flags\" and fraud-related issues.\\r\\n\\r\\nTools & Technologies: Python, scikit-learn, tfidf, word2vec, doc2vec, cosine similarity, NaÃ¯ve Bayes, LDA, NMF for topic modelling, Vader and text blob for sentiment analysis. Matplot lib, Tableau dashboard for reporting.\\r\\n\\r\\nMULTIPLE DATA SCIENCE AND ANALYTIC PROJECTS (USA CLIENTS)\\r\\nTEXT ANALYTICS - MOTOR VEHICLE CUSTOMER REVIEW DATA * Received customer feedback survey data for past one year. Performed sentiment (Positive, Negative & Neutral) and time series analysis on customer comments across all 4 categories.\\r\\n* Created heat map of terms by survey category based on frequency of words * Extracted Positive and Negative words across all the Survey categories and plotted Word cloud.\\r\\n* Created customized tableau dashboards for effective reporting and visualizations.\\r\\nCHATBOT * Developed a user friendly chatbot for one of our Products which handle simple questions about hours of operation, reservation options and so on.\\r\\n* This chat bot serves entire product related questions. Giving overview of tool via QA platform and also give recommendation responses so that user question to build chain of relevant answer.\\r\\n* This too has intelligence to build the pipeline of questions as per user requirement and asks the relevant /recommended questions.\\r\\n\\r\\nTools & Technologies: Python, Natural language processing, NLTK, spacy, topic modelling, Sentiment analysis, Word Embedding, scikit-learn, JavaScript/JQuery, SqlServer\\r\\n\\r\\nINFORMATION GOVERNANCE\\r\\nOrganizations to make informed decisions about all of the information they store. The integrated Information Governance portfolio synthesizes intelligence across unstructured data sources and facilitates action to ensure organizations are best positioned to counter information risk.\\r\\n* Scan data from multiple sources of formats and parse different file formats, extract Meta data information, push results for indexing elastic search and created customized, interactive dashboards using kibana.\\r\\n* Preforming ROT Analysis on the data which give information of data which helps identify content that is either Redundant, Outdated, or Trivial.\\r\\n* Preforming full-text search analysis on elastic search with predefined methods which can tag as (PII) personally identifiable information (social security numbers, addresses, names, etc.) which frequently targeted during cyber-attacks.\\r\\nTools & Technologies: Python, Flask, Elastic Search, Kibana\\r\\n\\r\\nFRAUD ANALYTIC PLATFORM\\r\\nFraud Analytics and investigative platform to review all red flag cases.\\r\\nâ\\x80¢ FAP is a Fraud Analytics and investigative platform with inbuilt case manager and suite of Analytics for various ERP systems.\\r\\n* It can be used by clients to interrogate their Accounting systems for identifying the anomalies which can be indicators of fraud by running advanced analytics\\r\\nTools & Technologies: HTML, JavaScript, SqlServer, JQuery, CSS, Bootstrap, Node.js, D3.js, DC.js'"
            ],
            "application/vnd.google.colaboratory.intrinsic+json": {
              "type": "string"
            }
          },
          "metadata": {},
          "execution_count": 13
        }
      ]
    },
    {
      "cell_type": "markdown",
      "source": [
        "**$\\Large \\text{HUMAN RESOURCES RESUME}$**"
      ],
      "metadata": {
        "id": "087tRgdDz4tb"
      }
    },
    {
      "cell_type": "code",
      "metadata": {
        "colab": {
          "base_uri": "https://localhost:8080/"
        },
        "id": "eb2719d3",
        "outputId": "8392dbd4-9b0c-45bc-bd4d-e243e4ffbd5e"
      },
      "source": [
        "hr_resumes = df[df['Category'] == 'HR']\n",
        "print(hr_resumes['Resume'].iloc[0])"
      ],
      "execution_count": null,
      "outputs": [
        {
          "output_type": "stream",
          "name": "stdout",
          "text": [
            "TECHNICAL SKILLS â¢ Typewriting â¢ TORA â¢ SPSSEducation Details \r\n",
            "January 2017 MBA  Chidambaram, Tamil Nadu SNS College of Engineering\r\n",
            "January 2014 HSC   at SAV Higher Secondary School\r\n",
            " MBA   SNS College of Engineering\r\n",
            " SSLC Finance  at Kamaraj Matriculation School\r\n",
            "HR \r\n",
            "\r\n",
            "\r\n",
            "Skill Details \r\n",
            "Human resource, Finance- Exprience - Less than 1 year monthsCompany Details \r\n",
            "company - \r\n",
            "description - \n"
          ]
        }
      ]
    },
    {
      "cell_type": "markdown",
      "source": [
        "\n",
        "\n",
        "---\n",
        "\n"
      ],
      "metadata": {
        "id": "Nt-_OGzh4eJh"
      }
    },
    {
      "cell_type": "markdown",
      "source": [
        "**$\\LARGE \\text{STRATEGY FOR DATA CLEANING}$**  \n",
        "Our hypothesis of the three features playing a major role seems plausible.  \n",
        "To make the resume texts more appropriate and reliable for nlp, we can try to  \n",
        "remove information that is not required. Namely, we will remove these:"
      ],
      "metadata": {
        "id": "c8bd08sIz_t6"
      }
    },
    {
      "cell_type": "markdown",
      "source": [
        "**$\\Large \\text{1. \\n, \\r}$**  \n",
        "Looking at the Data Science Resume, we can observe '\\n' and '\\r' characters.  \n",
        "The applicant most likely used a code editor to type out his resume, hence the  \n",
        "usage of these characters.  \n",
        "We will be removing these."
      ],
      "metadata": {
        "id": "knw6eW3K0pFV"
      }
    },
    {
      "cell_type": "markdown",
      "source": [
        "**$\\Large \\text{2. Non-Alphabetic Characters}$**    \n",
        "In the HR Resume, we can see some unrecognizable characters, and a few dates.  \n",
        "These are absolutely not required for the shortlisting process.  \n",
        "This step will also remove the duration of a previous work experience/internship.  \n",
        "I would argue that recuiters only need to know whether you have had a past  \n",
        "experience, not its exact duration.  \n",
        "Some internships are 6 months, some are 2 months.  \n",
        "The only useful information that we will lose out on is GPA of a candidate."
      ],
      "metadata": {
        "id": "p_0ZPoCF1Poq"
      }
    },
    {
      "cell_type": "code",
      "metadata": {
        "colab": {
          "base_uri": "https://localhost:8080/",
          "height": 206
        },
        "id": "7099567b",
        "outputId": "ce7c163e-f603-48cf-c598-f8b04519a859"
      },
      "source": [
        "import re\n",
        "\n",
        "def clean_resume(resume):\n",
        "    # Remove '\\r' and '\\n'\n",
        "    cleaned_resume = resume.replace('\\r', '').replace('\\n', ' ')\n",
        "    # Remove characters not in the allowed set (alphanumeric and whitespace)\n",
        "    cleaned_resume = re.sub(r'[^a-zA-Z\\s]', '', cleaned_resume)\n",
        "    return cleaned_resume\n",
        "\n",
        "df['Cleaned_Resume'] = df['Resume'].apply(clean_resume)\n",
        "df['Resume'] = df['Cleaned_Resume']\n",
        "df = df.drop('Cleaned_Resume', axis=1)\n",
        "df.head()"
      ],
      "execution_count": null,
      "outputs": [
        {
          "output_type": "execute_result",
          "data": {
            "text/plain": [
              "       Category                                             Resume\n",
              "0  Data Science  Skills  Programming Languages Python pandas nu...\n",
              "1  Data Science  Education Details  May  to May  BE   UITRGPV D...\n",
              "2  Data Science  Areas of Interest Deep Learning Control System...\n",
              "3  Data Science  Skills  R  Python  SAP HANA  Tableau  SAP HANA...\n",
              "4  Data Science  Education Details   MCA   YMCAUST  Faridabad  ..."
            ],
            "text/html": [
              "\n",
              "  <div id=\"df-5831bfe6-f8e1-457f-81bc-dac4b90a71d3\" class=\"colab-df-container\">\n",
              "    <div>\n",
              "<style scoped>\n",
              "    .dataframe tbody tr th:only-of-type {\n",
              "        vertical-align: middle;\n",
              "    }\n",
              "\n",
              "    .dataframe tbody tr th {\n",
              "        vertical-align: top;\n",
              "    }\n",
              "\n",
              "    .dataframe thead th {\n",
              "        text-align: right;\n",
              "    }\n",
              "</style>\n",
              "<table border=\"1\" class=\"dataframe\">\n",
              "  <thead>\n",
              "    <tr style=\"text-align: right;\">\n",
              "      <th></th>\n",
              "      <th>Category</th>\n",
              "      <th>Resume</th>\n",
              "    </tr>\n",
              "  </thead>\n",
              "  <tbody>\n",
              "    <tr>\n",
              "      <th>0</th>\n",
              "      <td>Data Science</td>\n",
              "      <td>Skills  Programming Languages Python pandas nu...</td>\n",
              "    </tr>\n",
              "    <tr>\n",
              "      <th>1</th>\n",
              "      <td>Data Science</td>\n",
              "      <td>Education Details  May  to May  BE   UITRGPV D...</td>\n",
              "    </tr>\n",
              "    <tr>\n",
              "      <th>2</th>\n",
              "      <td>Data Science</td>\n",
              "      <td>Areas of Interest Deep Learning Control System...</td>\n",
              "    </tr>\n",
              "    <tr>\n",
              "      <th>3</th>\n",
              "      <td>Data Science</td>\n",
              "      <td>Skills  R  Python  SAP HANA  Tableau  SAP HANA...</td>\n",
              "    </tr>\n",
              "    <tr>\n",
              "      <th>4</th>\n",
              "      <td>Data Science</td>\n",
              "      <td>Education Details   MCA   YMCAUST  Faridabad  ...</td>\n",
              "    </tr>\n",
              "  </tbody>\n",
              "</table>\n",
              "</div>\n",
              "    <div class=\"colab-df-buttons\">\n",
              "\n",
              "  <div class=\"colab-df-container\">\n",
              "    <button class=\"colab-df-convert\" onclick=\"convertToInteractive('df-5831bfe6-f8e1-457f-81bc-dac4b90a71d3')\"\n",
              "            title=\"Convert this dataframe to an interactive table.\"\n",
              "            style=\"display:none;\">\n",
              "\n",
              "  <svg xmlns=\"http://www.w3.org/2000/svg\" height=\"24px\" viewBox=\"0 -960 960 960\">\n",
              "    <path d=\"M120-120v-720h720v720H120Zm60-500h600v-160H180v160Zm220 220h160v-160H400v160Zm0 220h160v-160H400v160ZM180-400h160v-160H180v160Zm440 0h160v-160H620v160ZM180-180h160v-160H180v160Zm440 0h160v-160H620v160Z\"/>\n",
              "  </svg>\n",
              "    </button>\n",
              "\n",
              "  <style>\n",
              "    .colab-df-container {\n",
              "      display:flex;\n",
              "      gap: 12px;\n",
              "    }\n",
              "\n",
              "    .colab-df-convert {\n",
              "      background-color: #E8F0FE;\n",
              "      border: none;\n",
              "      border-radius: 50%;\n",
              "      cursor: pointer;\n",
              "      display: none;\n",
              "      fill: #1967D2;\n",
              "      height: 32px;\n",
              "      padding: 0 0 0 0;\n",
              "      width: 32px;\n",
              "    }\n",
              "\n",
              "    .colab-df-convert:hover {\n",
              "      background-color: #E2EBFA;\n",
              "      box-shadow: 0px 1px 2px rgba(60, 64, 67, 0.3), 0px 1px 3px 1px rgba(60, 64, 67, 0.15);\n",
              "      fill: #174EA6;\n",
              "    }\n",
              "\n",
              "    .colab-df-buttons div {\n",
              "      margin-bottom: 4px;\n",
              "    }\n",
              "\n",
              "    [theme=dark] .colab-df-convert {\n",
              "      background-color: #3B4455;\n",
              "      fill: #D2E3FC;\n",
              "    }\n",
              "\n",
              "    [theme=dark] .colab-df-convert:hover {\n",
              "      background-color: #434B5C;\n",
              "      box-shadow: 0px 1px 3px 1px rgba(0, 0, 0, 0.15);\n",
              "      filter: drop-shadow(0px 1px 2px rgba(0, 0, 0, 0.3));\n",
              "      fill: #FFFFFF;\n",
              "    }\n",
              "  </style>\n",
              "\n",
              "    <script>\n",
              "      const buttonEl =\n",
              "        document.querySelector('#df-5831bfe6-f8e1-457f-81bc-dac4b90a71d3 button.colab-df-convert');\n",
              "      buttonEl.style.display =\n",
              "        google.colab.kernel.accessAllowed ? 'block' : 'none';\n",
              "\n",
              "      async function convertToInteractive(key) {\n",
              "        const element = document.querySelector('#df-5831bfe6-f8e1-457f-81bc-dac4b90a71d3');\n",
              "        const dataTable =\n",
              "          await google.colab.kernel.invokeFunction('convertToInteractive',\n",
              "                                                    [key], {});\n",
              "        if (!dataTable) return;\n",
              "\n",
              "        const docLinkHtml = 'Like what you see? Visit the ' +\n",
              "          '<a target=\"_blank\" href=https://colab.research.google.com/notebooks/data_table.ipynb>data table notebook</a>'\n",
              "          + ' to learn more about interactive tables.';\n",
              "        element.innerHTML = '';\n",
              "        dataTable['output_type'] = 'display_data';\n",
              "        await google.colab.output.renderOutput(dataTable, element);\n",
              "        const docLink = document.createElement('div');\n",
              "        docLink.innerHTML = docLinkHtml;\n",
              "        element.appendChild(docLink);\n",
              "      }\n",
              "    </script>\n",
              "  </div>\n",
              "\n",
              "\n",
              "    <div id=\"df-5102c8fb-902f-4669-9962-d37a419edd7e\">\n",
              "      <button class=\"colab-df-quickchart\" onclick=\"quickchart('df-5102c8fb-902f-4669-9962-d37a419edd7e')\"\n",
              "                title=\"Suggest charts\"\n",
              "                style=\"display:none;\">\n",
              "\n",
              "<svg xmlns=\"http://www.w3.org/2000/svg\" height=\"24px\"viewBox=\"0 0 24 24\"\n",
              "     width=\"24px\">\n",
              "    <g>\n",
              "        <path d=\"M19 3H5c-1.1 0-2 .9-2 2v14c0 1.1.9 2 2 2h14c1.1 0 2-.9 2-2V5c0-1.1-.9-2-2-2zM9 17H7v-7h2v7zm4 0h-2V7h2v10zm4 0h-2v-4h2v4z\"/>\n",
              "    </g>\n",
              "</svg>\n",
              "      </button>\n",
              "\n",
              "<style>\n",
              "  .colab-df-quickchart {\n",
              "      --bg-color: #E8F0FE;\n",
              "      --fill-color: #1967D2;\n",
              "      --hover-bg-color: #E2EBFA;\n",
              "      --hover-fill-color: #174EA6;\n",
              "      --disabled-fill-color: #AAA;\n",
              "      --disabled-bg-color: #DDD;\n",
              "  }\n",
              "\n",
              "  [theme=dark] .colab-df-quickchart {\n",
              "      --bg-color: #3B4455;\n",
              "      --fill-color: #D2E3FC;\n",
              "      --hover-bg-color: #434B5C;\n",
              "      --hover-fill-color: #FFFFFF;\n",
              "      --disabled-bg-color: #3B4455;\n",
              "      --disabled-fill-color: #666;\n",
              "  }\n",
              "\n",
              "  .colab-df-quickchart {\n",
              "    background-color: var(--bg-color);\n",
              "    border: none;\n",
              "    border-radius: 50%;\n",
              "    cursor: pointer;\n",
              "    display: none;\n",
              "    fill: var(--fill-color);\n",
              "    height: 32px;\n",
              "    padding: 0;\n",
              "    width: 32px;\n",
              "  }\n",
              "\n",
              "  .colab-df-quickchart:hover {\n",
              "    background-color: var(--hover-bg-color);\n",
              "    box-shadow: 0 1px 2px rgba(60, 64, 67, 0.3), 0 1px 3px 1px rgba(60, 64, 67, 0.15);\n",
              "    fill: var(--button-hover-fill-color);\n",
              "  }\n",
              "\n",
              "  .colab-df-quickchart-complete:disabled,\n",
              "  .colab-df-quickchart-complete:disabled:hover {\n",
              "    background-color: var(--disabled-bg-color);\n",
              "    fill: var(--disabled-fill-color);\n",
              "    box-shadow: none;\n",
              "  }\n",
              "\n",
              "  .colab-df-spinner {\n",
              "    border: 2px solid var(--fill-color);\n",
              "    border-color: transparent;\n",
              "    border-bottom-color: var(--fill-color);\n",
              "    animation:\n",
              "      spin 1s steps(1) infinite;\n",
              "  }\n",
              "\n",
              "  @keyframes spin {\n",
              "    0% {\n",
              "      border-color: transparent;\n",
              "      border-bottom-color: var(--fill-color);\n",
              "      border-left-color: var(--fill-color);\n",
              "    }\n",
              "    20% {\n",
              "      border-color: transparent;\n",
              "      border-left-color: var(--fill-color);\n",
              "      border-top-color: var(--fill-color);\n",
              "    }\n",
              "    30% {\n",
              "      border-color: transparent;\n",
              "      border-left-color: var(--fill-color);\n",
              "      border-top-color: var(--fill-color);\n",
              "      border-right-color: var(--fill-color);\n",
              "    }\n",
              "    40% {\n",
              "      border-color: transparent;\n",
              "      border-right-color: var(--fill-color);\n",
              "      border-top-color: var(--fill-color);\n",
              "    }\n",
              "    60% {\n",
              "      border-color: transparent;\n",
              "      border-right-color: var(--fill-color);\n",
              "    }\n",
              "    80% {\n",
              "      border-color: transparent;\n",
              "      border-right-color: var(--fill-color);\n",
              "      border-bottom-color: var(--fill-color);\n",
              "    }\n",
              "    90% {\n",
              "      border-color: transparent;\n",
              "      border-bottom-color: var(--fill-color);\n",
              "    }\n",
              "  }\n",
              "</style>\n",
              "\n",
              "      <script>\n",
              "        async function quickchart(key) {\n",
              "          const quickchartButtonEl =\n",
              "            document.querySelector('#' + key + ' button');\n",
              "          quickchartButtonEl.disabled = true;  // To prevent multiple clicks.\n",
              "          quickchartButtonEl.classList.add('colab-df-spinner');\n",
              "          try {\n",
              "            const charts = await google.colab.kernel.invokeFunction(\n",
              "                'suggestCharts', [key], {});\n",
              "          } catch (error) {\n",
              "            console.error('Error during call to suggestCharts:', error);\n",
              "          }\n",
              "          quickchartButtonEl.classList.remove('colab-df-spinner');\n",
              "          quickchartButtonEl.classList.add('colab-df-quickchart-complete');\n",
              "        }\n",
              "        (() => {\n",
              "          let quickchartButtonEl =\n",
              "            document.querySelector('#df-5102c8fb-902f-4669-9962-d37a419edd7e button');\n",
              "          quickchartButtonEl.style.display =\n",
              "            google.colab.kernel.accessAllowed ? 'block' : 'none';\n",
              "        })();\n",
              "      </script>\n",
              "    </div>\n",
              "\n",
              "    </div>\n",
              "  </div>\n"
            ],
            "application/vnd.google.colaboratory.intrinsic+json": {
              "type": "dataframe",
              "variable_name": "df",
              "summary": "{\n  \"name\": \"df\",\n  \"rows\": 962,\n  \"fields\": [\n    {\n      \"column\": \"Category\",\n      \"properties\": {\n        \"dtype\": \"category\",\n        \"num_unique_values\": 25,\n        \"samples\": [\n          \"Civil Engineer\",\n          \"DevOps Engineer\",\n          \"Data Science\"\n        ],\n        \"semantic_type\": \"\",\n        \"description\": \"\"\n      }\n    },\n    {\n      \"column\": \"Resume\",\n      \"properties\": {\n        \"dtype\": \"category\",\n        \"num_unique_values\": 166,\n        \"samples\": [\n          \"KEY COMPETENCIES Multi  Operations ManagementPeople Management Customer Services  Emails  MIS Vendor  Client Services ManagementCross Functional CoordinationBanking  Financial Services Transaction Monitoring  ATM Operations   Prepaid Card Operations PreIssuance  PostIssuance  POS Operations  JOB PROFILE  SKILLS  An effective communicator with excellent relationship building  interpersonal skills Strong analytical problem solving  organizational abilities  Extensive experience in managing operations with demonstrated leadership qualities  organisational skills during the tenure  Managing customer centric operations  ensuring customer satisfaction by achieving service quality norms  Analyzing of all operational problems customer complaints and take preventive and corrective actions to resolve the same  Receive and respond to Key customer inquiries in an effective manner and provide relevant and timely information  Deft in steering banking backend operations analyzing risks and managing delinquencies with dexterity across applying techniques for maximizing recoveries and minimizing credit losses  Analyzed  identified training needs of the team members and developing organizing and conducting training programs and manage bottom quartile team to improve their performance  Preparing and maintaining daily MIS reports to evaluate the performance and efficiency of the process relate to various verticals  Measuring the performance of the processes in terms of efficiency and effectiveness matrix and ensuring adherence to SLA  Major Activities Define processes for Field Services were monitored and necessary checks were executed and controlled Also measured Vendor SLA by analyzing the TAT of vendors  the Client SLA provided to us  As per company procedures handling  ensuring vendors payment issues to be sorted out payments are processed on quarterly basis  Appropriately plan and execute each skill of operations in accordance with the departments policies and procedures  Manage relationships with business team software development team and other services to achieve project objectives Different software Worked till now  a CTL prime  Axis Bank Credit Cards b Insight  For POS Machine technical operations for Amex MID  TID Generation ATOS Venture Infotek c Ticket Management System  TATA Communications Private Services Ltd ATM  NOC Operations d Branch Portal Yalamanchili Software Exports Ltd  Prepaid Cards SBI Bank  Zaggle Prepaid Oceans Services Ltd Zaggle Prepaid Ocean Services Pvt Ltd Oct  to Till Date Designation Manager  Operations Payment Industry  Prepaid Cards  INR Education Details    Commerce Mumbai Maharashtra Mumbai University Operations Manager   Service Manager  Operations Payment Industry  Prepaid Cards  INR  FTC Skill Details  OPERATIONS Exprience   months SATISFACTION Exprience   months TRAINING Exprience   months NOC Exprience   months POINT OF SALE Exprience   monthsCompany Details  company  Zaggle Prepaid Ocean Services Pvt Ltd description  Card Operations company  Yalamanchili Software Exports Ltd description   Operations Pvt Ltd Dec  to Feb   Designation Service Manager  Operations Payment Industry  Prepaid Cards  INR  FTC  Key Contributions  A resultoriented business professional in planning executing managing processes improving efficiency of operations team building and detailing process information to determine effective result into operations  Ensuring PINs generation SLA is maintained and chargeback cases are raised in perfect timeframe  Managing email customer services properly and ensuring the emails are replied properly Also ensuring transaction monitoring is properly managed   Assisting Bankers SBI  Associated Banks for their BCP plans by getting executed in the system with the help of DRPR plans  vice versa or any other business requirements  Expertise in maintaining highest level of quality in operations ensuring adherence to all the quality parameters and procedures as per the stringent norms  Lead manage and supervise the execution of external audit engagements and responsible for presenting the findings  developing a quality reports to the senior Management and Clients  Coachmentor  team members to perform at a higher level by giving opportunities providing timely continuous feedback and working with staff to improve their communication time management decision making organization and analytical skills  Providing the solutions and services to the client in their own premises with aforesaid count of team members  Also ensuring end to end process of PR  DR as per client requirements PR DR  DR PR by interacting with internal  external stakeholders  Determining process gaps and designing  conducting training programs to enhance operational efficiency and retain talent by providing optimum opportunities for personal and professional growth company  Credit Cards description  Ensured highest standard of customer satisfaction and quality service developing new policies and procedures to improve based on customer feedback and resolving customer queries via correspondence inbound calls  email channels with the strength of  Team members company  AGS Transact Technologies Limited description  Key Contributions Lead  SPOC to Banks company  TATA Communications Payment Solutions Ltd description  To make ATMs operational within TAT by analyzing the issue is technical or nontechnical and also by interacting with internal  external stakeholders company  Vertex Customer Solutions India Private Ltd description  Key Contributions  Build positive working relationship with all team members and clients by keeping Management informed   of KYC document collection  concurrent audit progress responding timely to Management inquiries understanding the business and conducting self professionally company  Financial Inclusion Network  Operations Limited description  Key Contributions POSOperations  Cascading the adherence of process is strictly followed by team members  training them to reduce the downtime  Managing Stock of EDC Terminals  Managing Deployments of terminals through Multiple teams  Would have worked with multiple terminal make  model  Managing Inward Outward  QC of applications installed in the POS machines company  Venture Infotek Private Ltd description  Key Contributions POSOperations company  Axis Bank Ltd  Customer Services description  Aug  to Oct  MaFoiI smart  Designation Team LeaderExecutive  Emails Phone Banking  Correspondence Unit Snail Mails\",\n          \"Skill Set Hadoop Map Reduce HDFS Hive Sqoop java Duration  to  Role Hadoop Developer Rplus offers an quick simple and powerful cloud based Solution Demand Sense to accurately predict demand for your product in all your markets which Combines Enterprise and External Data to predict demand more accurately through Uses Social Conversation and Sentiments to derive demand and Identifies significant drivers of sale out of hordes of factors that Selects the best suited model out of multiple forecasting models for each product Responsibilities  Involved in deploying the product for customers gathering requirements and algorithm optimization at backend of the product  Load and transform Large Datasets of structured semi structured  Responsible to manage data coming from different sources and application  Supported Map Reduce Programs those are running on the cluster  Involved in creating Hive tables loading with data and writing hive queries which will run internally in map reduce wayEducation Details   Hadoop Developer   Hadoop Developer  Braindatawire Skill Details  APACHE HADOOP HDFS Exprience   months APACHE HADOOP SQOOP Exprience   months Hadoop Exprience   months HADOOP Exprience   months HADOOP DISTRIBUTED FILE SYSTEM Exprience   monthsCompany Details  company  Braindatawire description  Technical Skills    Programming Core Java Map Reduce Scala    Hadoop Tools HDFS Spark Map Reduce Sqoop Hive Hbase    Database MySQL Oracle    Scripting Shell Scripting    IDE Eclipse    Operating Systems Linux CentOS Windows    Source Control Git Github\",\n          \"IT Skills Area Exposure Modeling Tool Bizagi MS Visio Prototyping Tool Indigo Studio Documentation MS Office MS Word MS Excel MS Power Point Testing Proficiency Smoke Sanity Integration Functional Acceptance and UI Methodology implemented Waterfall Agile Scrum Database SQL Testing Tool HPQC Business Exposure Education Details   Bachelor Of Computer Engineering Computer Engineering Mumbai Maharashtra Thadomal Shahani Engineering college  Diploma Computer Engineering Ulhasnagar Maharashtra Institute of Technology  Secondary School Certificate  Ulhasnagar Maharashtra New English High School Senior Business Analyst  RPA   Senior Business Analyst  RPA  Hexaware Technologies Skill Details  DOCUMENTATION Exprience   months TESTING Exprience   months INTEGRATION Exprience   months INTEGRATOR Exprience   months PROTOTYPE Exprience   monthsCompany Details  company  Hexaware Technologies description  Working as a RPA Business Analyst company  BBH Brown Brothers Harriman  Co description  is a private bank that provides commercial banking investment management brokerage and trust services to private companies and individuals It also performs merger advisory foreign exchange custody services commercial banking and corporate financing services  Responsibilities  Performed Automation Assessment of various Processes and identified processes which can be candidates of RPA  Conducting Assessment that involves an initial Understanding of the Existing System their technology processes Usage of the tools Feasibility of tool with automation tool along with automation ROI analysis  Preparing the Automation Potential Sheet which describes the steps in the process the volume and frequency of the transaction the AHT taken by SME to perform the process and depending on the steps that could be automated Automation potential and the manual efforts that will be saved are calculated Calculating the complexity of the Process which is considered for automation and depending on all these factors Number of Bots and Number of Automation tool Licenses are determined  Implementing a Proof of Concept POC to Validate Feasibility by executing the selected critical use cases for conducting a POC which will helps to identify financial and operational benefits and provide recommendations regarding the actual need for complete automation  Gathering business requirements by conducting detailed interviews with business users stakeholders and Subject Matter Experts SMEs  Preparing Business Requirement Document and then converted Business requirements into Functional Requirements Specification   Constructing prototype early toward a design acceptable to the customer and feasible  Assisting in designing test plans test scenarios and test cases for integration regression and user acceptance testing UAT to improve the overall quality of the Automation  Participating regularly in Walkthroughs and Review meetings with Project Manager QA Engineers and Development team  Regularly interacting with offshore and onshore development teams company  FADV  First Advantage description  is a criminal background check company that delivers global solutions ranging from employment screenings to background checks The following are the processes which were covered Email Process Research Process Review Process  Responsibilities  Requirement Gathering through conducting Interviews  Brainstorming sessions with stakeholders  To develop decision models and execute those rules as per the use case specifications  To Testvalidate the decision models against document test data  To maintain and enhance the decision models for changes in regulations as per use case specifications  Responsible for performing the business research that will make a business growth  Developing a clear understanding of existing business functions and processes  Effectively communicate with the onsite clients for the queries suggestions and update  Giving suggestions to enhance the current processes  Identifying areas for process improvement  Flagging up potential problems at an early stage  Preparing PowerPoint presentations and documents for business meetings  Using any information gathered to write up detailed reports  Highlighting risks and issues that could impact project delivery  Able to work accurately  To develop and maintain documentation for internal team training and client end user operations  To work efficiently with team members and across teams  To mentor and train junior team members company  Clinical Testing Lab Work and Diagnostic Testing description  IQVIA provides services to its customers this includes Clinical Testing Lab Work and Diagnostic Testing under clinical trial These customers need to pay to IQVIA and aging details and invoices are generated for the same The following are the processes which were covered  Tracking Payments Automated Real Time Metrics Reporting Dashboard Past Due Notifications AR Statements CreditRebill Responsibilities  Conducting meetings with clients and key stakeholders to gather requirements analyze finalize and have formal signoffs from approvers Gather and perform analysis of the business requirements  Translating the business requirements into the Business Requirement Document BRD Functional Requirement Document FRD  Facilitating meetings with the appropriate subject matter experts in both business and technology teams  Coordinating with business user community for the execution of user acceptance test as well as tracking issues  Working collaborating and coordinating with Offshore and Onsite team members to fulfill the BA responsibilities from project initiation to PostImplementation  Reviewing the test scripts with business users as well as technology team Execute test scripts with expected results for the System Integration Test SIT and User Acceptance Test UAT  Coordinating and conducting the Production Acceptance Testing PAT with the business users  Creating flow diagrams structure charts and other types of system or process representations  Managing changes to requirements and baseline through a change control process  Utilizing standard methods design and testing tools throughout project development life cycle  Work closely with the operational functional teams operations management and personnel and various technology teams to facilitate a shared understanding of requirements and priorities across all areas company  Eduavenir IT Solution description  Project MBMS  MBMS  is an Inventory management application that allows user to manage inventory details of different warehouses having different products located at various locations and help extract what goods have been procured sold or returned by customers It generates automated invoicesalong withcustomized reports It also managescustomer complaint and resolution system implementation along with automated MIS on monthly basisSales and forecastingis also developed on MIS System and the streamlining of process of warehousing and dispatch along with online proof of delivery management system POD documentation is generated  Responsibilities  Participate in requirement gathering discussion with client to understand the flow of business processes  Analyze the requirements and determine the core processes develop Process Documentation and ensure to stay uptodate in conjunction with ongoing changes  Participate in process flow analysis and preparing BRD SRS  Coordinating with developers designers  operations teams for various nuances of the project communicate the stakeholder requirements from requirement enhancement to implementation and finally deliver the same within estimated timeframe  Support UAT by reviewing test cases manage version control of documents software builds  Coordinate with the stakeholders for UAT sign off and coordinate internally for production movement till Golive stage of the application  Provide demo and training to internal and end user using PowerPoint presentation  Resolving project functional technical issues during UAT  Prioritizing the Production bugs and resolving the same within the estimated timeframe  Preparing Project Status Report and Production Bugs Status to all the stakeholders  Promoting and Networking for online trading platform  Designing query sheet for obtaining and comparison of quotes from various vendors  Development of product codes  material codes for inventory management Master Data Management company  CAPGEMINI Head Office description  Type Mobile and Device Testing       Duration January   August   Follet  An application which takes an electronic request from the user for the books he requires from a particular follet store This detailed information about books that will include the name of the book its price the date of the transaction and the parties involved which will then be sent to follet stores User then create request for one or more books for a given date This request is then processed further and user gets a mail of the date when he will be provided with that book  Responsibilities  Understanding the needs and business requirements  Preparing BRD SRS by eliciting all the requirements from the client and SMEs  Understanding the dependency of the modules in the system  Preparation of test plan for Unit level and Integration level  Preparation and execution of test cases  Defect tracking Issue Resolution Risk Monitoring Status Tracking Reporting and Followup  Preparation of Test Completion report company  CAPGEMINI Head Office description   company  CAPGEMINI Head Office description  Humana is a health care insurance project of US which deals with supplying various medicines to citizens as per the doctors reference and patients insurance policy This application keeps track of all the medicines user has consumed in the past and generates a patient history A citizen is given a drug only after the doctors reference so the doctors information is also linked with the patients history  Responsibilities  Understanding the requirements and getting clarifications from client  Involved in writing test cases based on test scenarios and execute them  Ensuring Test Coverage using Requirement Traceability Matrix RTM  Preparation of Test Completion report company  CAPGEMINI Head Office description  Testing Trends WQR World Quality Report is an application which allows the users to take a survey on different methods and technologies used for testing Users can choose to answer any type of questions under three different categories Users have a facility to search view and export the data to excel Also users get daily and weekly reports through email about the new trends in testing implemented around the globe Testing Trends WQR app is available on Android and IOS platforms  Responsibilities  Understanding the requirements and getting clarifications from client  Writing test cases based on test scenarios and executed them  Performing different types of testing such as Functional Integration System and UAT  Defect resolution and maintenance of the application\"\n        ],\n        \"semantic_type\": \"\",\n        \"description\": \"\"\n      }\n    }\n  ]\n}"
            }
          },
          "metadata": {},
          "execution_count": 15
        }
      ]
    },
    {
      "cell_type": "code",
      "metadata": {
        "colab": {
          "base_uri": "https://localhost:8080/",
          "height": 123
        },
        "id": "550e3ed9",
        "outputId": "039ae6c9-d074-4ff0-f8dc-07f4b99e3115"
      },
      "source": [
        "df['Resume'][1]"
      ],
      "execution_count": null,
      "outputs": [
        {
          "output_type": "execute_result",
          "data": {
            "text/plain": [
              "'Education Details  May  to May  BE   UITRGPV Data Scientist   Data Scientist  Matelabs Skill Details  Python Exprience  Less than  year months Statsmodels Exprience   months AWS Exprience  Less than  year months Machine learning Exprience  Less than  year months Sklearn Exprience  Less than  year months Scipy Exprience  Less than  year months Keras Exprience  Less than  year monthsCompany Details  company  Matelabs description  ML Platform for business professionals dummies and enthusiasts A Koramangala th block AchievementsTasks behind sukh sagar Bengaluru India                               Developed and deployed auto preprocessing steps of machine learning mainly missing value treatment outlier detection encoding scaling feature selection and dimensionality reduction Deployed automated classification and regression model linkedincominadityarathore bb                           Reasearch and deployed the time series forecasting model ARIMA SARIMAX Holtwinter and Prophet Worked on metafeature extracting problem githubcomrathorology Implemented a state of the art research paper on outlier detection for mixed attributes company  Matelabs description  '"
            ],
            "application/vnd.google.colaboratory.intrinsic+json": {
              "type": "string"
            }
          },
          "metadata": {},
          "execution_count": 16
        }
      ]
    },
    {
      "cell_type": "code",
      "source": [
        "count_cgpa_gpa = df['Resume'].apply(lambda tokens: 'cgpa' in tokens or 'gpa' in tokens or 'CGPA' in tokens or 'GPA' in tokens).sum()\n",
        "print(count_cgpa_gpa)"
      ],
      "metadata": {
        "colab": {
          "base_uri": "https://localhost:8080/"
        },
        "id": "E6u5gwR4vIvD",
        "outputId": "6528c08e-c908-4008-c8c0-6c3f96cc42ed"
      },
      "execution_count": null,
      "outputs": [
        {
          "output_type": "stream",
          "name": "stdout",
          "text": [
            "7\n"
          ]
        }
      ]
    },
    {
      "cell_type": "markdown",
      "source": [
        "Out of 962 candidates, only 7 mentioned their GPA. This is highly unbalanced.  \n",
        "Hence by removing all numeric values, we do not lose out on any important information.  \n",
        "So, our data cleaning steps remain valid."
      ],
      "metadata": {
        "id": "xvX3mMHd2Uql"
      }
    },
    {
      "cell_type": "markdown",
      "source": [
        "\n",
        "\n",
        "---\n",
        "\n"
      ],
      "metadata": {
        "id": "8pDgBJtk5BZV"
      }
    },
    {
      "cell_type": "markdown",
      "source": [
        "First, let us import a model capable of natural language processing.  \n",
        "Spacy library provides many prebuilt models.   \n",
        "I will be using the lightest of them of all 'en_core_web_sm'."
      ],
      "metadata": {
        "id": "YM_OtoC4gVjL"
      }
    },
    {
      "cell_type": "code",
      "metadata": {
        "id": "47949623"
      },
      "source": [
        "import spacy\n",
        "\n",
        "# Load the English model\n",
        "nlp = spacy.load('en_core_web_sm')"
      ],
      "execution_count": null,
      "outputs": []
    },
    {
      "cell_type": "code",
      "metadata": {
        "id": "f690c7ac"
      },
      "source": [
        "# tokenize all the resume texts, storing them as a  separate feature\n",
        "df['Tokenized_Resume'] = df['Resume'].apply(lambda x: [token.text for token in nlp(x)])"
      ],
      "execution_count": 20,
      "outputs": []
    },
    {
      "cell_type": "code",
      "metadata": {
        "colab": {
          "base_uri": "https://localhost:8080/",
          "height": 206
        },
        "id": "273dd985",
        "outputId": "9d413772-2836-4ddb-ed9c-cfceb036636e"
      },
      "source": [
        "df.head()"
      ],
      "execution_count": 21,
      "outputs": [
        {
          "output_type": "execute_result",
          "data": {
            "text/plain": [
              "       Category                                             Resume  \\\n",
              "0  Data Science  Skills  Programming Languages Python pandas nu...   \n",
              "1  Data Science  Education Details  May  to May  BE   UITRGPV D...   \n",
              "2  Data Science  Areas of Interest Deep Learning Control System...   \n",
              "3  Data Science  Skills  R  Python  SAP HANA  Tableau  SAP HANA...   \n",
              "4  Data Science  Education Details   MCA   YMCAUST  Faridabad  ...   \n",
              "\n",
              "                                    Tokenized_Resume  \n",
              "0  [Skills,  , Programming, Languages, Python, pa...  \n",
              "1  [Education, Details,  , May,  , to, May,  , BE...  \n",
              "2  [Areas, of, Interest, Deep, Learning, Control,...  \n",
              "3  [Skills,  , R,  , Python,  , SAP, HANA,  , Tab...  \n",
              "4  [Education, Details,   , MCA,   , YMCAUST,  , ...  "
            ],
            "text/html": [
              "\n",
              "  <div id=\"df-85d324f2-aba2-48d3-aabf-ab9a445b23e7\" class=\"colab-df-container\">\n",
              "    <div>\n",
              "<style scoped>\n",
              "    .dataframe tbody tr th:only-of-type {\n",
              "        vertical-align: middle;\n",
              "    }\n",
              "\n",
              "    .dataframe tbody tr th {\n",
              "        vertical-align: top;\n",
              "    }\n",
              "\n",
              "    .dataframe thead th {\n",
              "        text-align: right;\n",
              "    }\n",
              "</style>\n",
              "<table border=\"1\" class=\"dataframe\">\n",
              "  <thead>\n",
              "    <tr style=\"text-align: right;\">\n",
              "      <th></th>\n",
              "      <th>Category</th>\n",
              "      <th>Resume</th>\n",
              "      <th>Tokenized_Resume</th>\n",
              "    </tr>\n",
              "  </thead>\n",
              "  <tbody>\n",
              "    <tr>\n",
              "      <th>0</th>\n",
              "      <td>Data Science</td>\n",
              "      <td>Skills  Programming Languages Python pandas nu...</td>\n",
              "      <td>[Skills,  , Programming, Languages, Python, pa...</td>\n",
              "    </tr>\n",
              "    <tr>\n",
              "      <th>1</th>\n",
              "      <td>Data Science</td>\n",
              "      <td>Education Details  May  to May  BE   UITRGPV D...</td>\n",
              "      <td>[Education, Details,  , May,  , to, May,  , BE...</td>\n",
              "    </tr>\n",
              "    <tr>\n",
              "      <th>2</th>\n",
              "      <td>Data Science</td>\n",
              "      <td>Areas of Interest Deep Learning Control System...</td>\n",
              "      <td>[Areas, of, Interest, Deep, Learning, Control,...</td>\n",
              "    </tr>\n",
              "    <tr>\n",
              "      <th>3</th>\n",
              "      <td>Data Science</td>\n",
              "      <td>Skills  R  Python  SAP HANA  Tableau  SAP HANA...</td>\n",
              "      <td>[Skills,  , R,  , Python,  , SAP, HANA,  , Tab...</td>\n",
              "    </tr>\n",
              "    <tr>\n",
              "      <th>4</th>\n",
              "      <td>Data Science</td>\n",
              "      <td>Education Details   MCA   YMCAUST  Faridabad  ...</td>\n",
              "      <td>[Education, Details,   , MCA,   , YMCAUST,  , ...</td>\n",
              "    </tr>\n",
              "  </tbody>\n",
              "</table>\n",
              "</div>\n",
              "    <div class=\"colab-df-buttons\">\n",
              "\n",
              "  <div class=\"colab-df-container\">\n",
              "    <button class=\"colab-df-convert\" onclick=\"convertToInteractive('df-85d324f2-aba2-48d3-aabf-ab9a445b23e7')\"\n",
              "            title=\"Convert this dataframe to an interactive table.\"\n",
              "            style=\"display:none;\">\n",
              "\n",
              "  <svg xmlns=\"http://www.w3.org/2000/svg\" height=\"24px\" viewBox=\"0 -960 960 960\">\n",
              "    <path d=\"M120-120v-720h720v720H120Zm60-500h600v-160H180v160Zm220 220h160v-160H400v160Zm0 220h160v-160H400v160ZM180-400h160v-160H180v160Zm440 0h160v-160H620v160ZM180-180h160v-160H180v160Zm440 0h160v-160H620v160Z\"/>\n",
              "  </svg>\n",
              "    </button>\n",
              "\n",
              "  <style>\n",
              "    .colab-df-container {\n",
              "      display:flex;\n",
              "      gap: 12px;\n",
              "    }\n",
              "\n",
              "    .colab-df-convert {\n",
              "      background-color: #E8F0FE;\n",
              "      border: none;\n",
              "      border-radius: 50%;\n",
              "      cursor: pointer;\n",
              "      display: none;\n",
              "      fill: #1967D2;\n",
              "      height: 32px;\n",
              "      padding: 0 0 0 0;\n",
              "      width: 32px;\n",
              "    }\n",
              "\n",
              "    .colab-df-convert:hover {\n",
              "      background-color: #E2EBFA;\n",
              "      box-shadow: 0px 1px 2px rgba(60, 64, 67, 0.3), 0px 1px 3px 1px rgba(60, 64, 67, 0.15);\n",
              "      fill: #174EA6;\n",
              "    }\n",
              "\n",
              "    .colab-df-buttons div {\n",
              "      margin-bottom: 4px;\n",
              "    }\n",
              "\n",
              "    [theme=dark] .colab-df-convert {\n",
              "      background-color: #3B4455;\n",
              "      fill: #D2E3FC;\n",
              "    }\n",
              "\n",
              "    [theme=dark] .colab-df-convert:hover {\n",
              "      background-color: #434B5C;\n",
              "      box-shadow: 0px 1px 3px 1px rgba(0, 0, 0, 0.15);\n",
              "      filter: drop-shadow(0px 1px 2px rgba(0, 0, 0, 0.3));\n",
              "      fill: #FFFFFF;\n",
              "    }\n",
              "  </style>\n",
              "\n",
              "    <script>\n",
              "      const buttonEl =\n",
              "        document.querySelector('#df-85d324f2-aba2-48d3-aabf-ab9a445b23e7 button.colab-df-convert');\n",
              "      buttonEl.style.display =\n",
              "        google.colab.kernel.accessAllowed ? 'block' : 'none';\n",
              "\n",
              "      async function convertToInteractive(key) {\n",
              "        const element = document.querySelector('#df-85d324f2-aba2-48d3-aabf-ab9a445b23e7');\n",
              "        const dataTable =\n",
              "          await google.colab.kernel.invokeFunction('convertToInteractive',\n",
              "                                                    [key], {});\n",
              "        if (!dataTable) return;\n",
              "\n",
              "        const docLinkHtml = 'Like what you see? Visit the ' +\n",
              "          '<a target=\"_blank\" href=https://colab.research.google.com/notebooks/data_table.ipynb>data table notebook</a>'\n",
              "          + ' to learn more about interactive tables.';\n",
              "        element.innerHTML = '';\n",
              "        dataTable['output_type'] = 'display_data';\n",
              "        await google.colab.output.renderOutput(dataTable, element);\n",
              "        const docLink = document.createElement('div');\n",
              "        docLink.innerHTML = docLinkHtml;\n",
              "        element.appendChild(docLink);\n",
              "      }\n",
              "    </script>\n",
              "  </div>\n",
              "\n",
              "\n",
              "    <div id=\"df-ef442fcd-4c2e-4736-ae32-0196cf6a4151\">\n",
              "      <button class=\"colab-df-quickchart\" onclick=\"quickchart('df-ef442fcd-4c2e-4736-ae32-0196cf6a4151')\"\n",
              "                title=\"Suggest charts\"\n",
              "                style=\"display:none;\">\n",
              "\n",
              "<svg xmlns=\"http://www.w3.org/2000/svg\" height=\"24px\"viewBox=\"0 0 24 24\"\n",
              "     width=\"24px\">\n",
              "    <g>\n",
              "        <path d=\"M19 3H5c-1.1 0-2 .9-2 2v14c0 1.1.9 2 2 2h14c1.1 0 2-.9 2-2V5c0-1.1-.9-2-2-2zM9 17H7v-7h2v7zm4 0h-2V7h2v10zm4 0h-2v-4h2v4z\"/>\n",
              "    </g>\n",
              "</svg>\n",
              "      </button>\n",
              "\n",
              "<style>\n",
              "  .colab-df-quickchart {\n",
              "      --bg-color: #E8F0FE;\n",
              "      --fill-color: #1967D2;\n",
              "      --hover-bg-color: #E2EBFA;\n",
              "      --hover-fill-color: #174EA6;\n",
              "      --disabled-fill-color: #AAA;\n",
              "      --disabled-bg-color: #DDD;\n",
              "  }\n",
              "\n",
              "  [theme=dark] .colab-df-quickchart {\n",
              "      --bg-color: #3B4455;\n",
              "      --fill-color: #D2E3FC;\n",
              "      --hover-bg-color: #434B5C;\n",
              "      --hover-fill-color: #FFFFFF;\n",
              "      --disabled-bg-color: #3B4455;\n",
              "      --disabled-fill-color: #666;\n",
              "  }\n",
              "\n",
              "  .colab-df-quickchart {\n",
              "    background-color: var(--bg-color);\n",
              "    border: none;\n",
              "    border-radius: 50%;\n",
              "    cursor: pointer;\n",
              "    display: none;\n",
              "    fill: var(--fill-color);\n",
              "    height: 32px;\n",
              "    padding: 0;\n",
              "    width: 32px;\n",
              "  }\n",
              "\n",
              "  .colab-df-quickchart:hover {\n",
              "    background-color: var(--hover-bg-color);\n",
              "    box-shadow: 0 1px 2px rgba(60, 64, 67, 0.3), 0 1px 3px 1px rgba(60, 64, 67, 0.15);\n",
              "    fill: var(--button-hover-fill-color);\n",
              "  }\n",
              "\n",
              "  .colab-df-quickchart-complete:disabled,\n",
              "  .colab-df-quickchart-complete:disabled:hover {\n",
              "    background-color: var(--disabled-bg-color);\n",
              "    fill: var(--disabled-fill-color);\n",
              "    box-shadow: none;\n",
              "  }\n",
              "\n",
              "  .colab-df-spinner {\n",
              "    border: 2px solid var(--fill-color);\n",
              "    border-color: transparent;\n",
              "    border-bottom-color: var(--fill-color);\n",
              "    animation:\n",
              "      spin 1s steps(1) infinite;\n",
              "  }\n",
              "\n",
              "  @keyframes spin {\n",
              "    0% {\n",
              "      border-color: transparent;\n",
              "      border-bottom-color: var(--fill-color);\n",
              "      border-left-color: var(--fill-color);\n",
              "    }\n",
              "    20% {\n",
              "      border-color: transparent;\n",
              "      border-left-color: var(--fill-color);\n",
              "      border-top-color: var(--fill-color);\n",
              "    }\n",
              "    30% {\n",
              "      border-color: transparent;\n",
              "      border-left-color: var(--fill-color);\n",
              "      border-top-color: var(--fill-color);\n",
              "      border-right-color: var(--fill-color);\n",
              "    }\n",
              "    40% {\n",
              "      border-color: transparent;\n",
              "      border-right-color: var(--fill-color);\n",
              "      border-top-color: var(--fill-color);\n",
              "    }\n",
              "    60% {\n",
              "      border-color: transparent;\n",
              "      border-right-color: var(--fill-color);\n",
              "    }\n",
              "    80% {\n",
              "      border-color: transparent;\n",
              "      border-right-color: var(--fill-color);\n",
              "      border-bottom-color: var(--fill-color);\n",
              "    }\n",
              "    90% {\n",
              "      border-color: transparent;\n",
              "      border-bottom-color: var(--fill-color);\n",
              "    }\n",
              "  }\n",
              "</style>\n",
              "\n",
              "      <script>\n",
              "        async function quickchart(key) {\n",
              "          const quickchartButtonEl =\n",
              "            document.querySelector('#' + key + ' button');\n",
              "          quickchartButtonEl.disabled = true;  // To prevent multiple clicks.\n",
              "          quickchartButtonEl.classList.add('colab-df-spinner');\n",
              "          try {\n",
              "            const charts = await google.colab.kernel.invokeFunction(\n",
              "                'suggestCharts', [key], {});\n",
              "          } catch (error) {\n",
              "            console.error('Error during call to suggestCharts:', error);\n",
              "          }\n",
              "          quickchartButtonEl.classList.remove('colab-df-spinner');\n",
              "          quickchartButtonEl.classList.add('colab-df-quickchart-complete');\n",
              "        }\n",
              "        (() => {\n",
              "          let quickchartButtonEl =\n",
              "            document.querySelector('#df-ef442fcd-4c2e-4736-ae32-0196cf6a4151 button');\n",
              "          quickchartButtonEl.style.display =\n",
              "            google.colab.kernel.accessAllowed ? 'block' : 'none';\n",
              "        })();\n",
              "      </script>\n",
              "    </div>\n",
              "\n",
              "    </div>\n",
              "  </div>\n"
            ],
            "application/vnd.google.colaboratory.intrinsic+json": {
              "type": "dataframe",
              "variable_name": "df",
              "summary": "{\n  \"name\": \"df\",\n  \"rows\": 962,\n  \"fields\": [\n    {\n      \"column\": \"Category\",\n      \"properties\": {\n        \"dtype\": \"category\",\n        \"num_unique_values\": 25,\n        \"samples\": [\n          \"Civil Engineer\",\n          \"DevOps Engineer\",\n          \"Data Science\"\n        ],\n        \"semantic_type\": \"\",\n        \"description\": \"\"\n      }\n    },\n    {\n      \"column\": \"Resume\",\n      \"properties\": {\n        \"dtype\": \"category\",\n        \"num_unique_values\": 166,\n        \"samples\": [\n          \"KEY COMPETENCIES Multi  Operations ManagementPeople Management Customer Services  Emails  MIS Vendor  Client Services ManagementCross Functional CoordinationBanking  Financial Services Transaction Monitoring  ATM Operations   Prepaid Card Operations PreIssuance  PostIssuance  POS Operations  JOB PROFILE  SKILLS  An effective communicator with excellent relationship building  interpersonal skills Strong analytical problem solving  organizational abilities  Extensive experience in managing operations with demonstrated leadership qualities  organisational skills during the tenure  Managing customer centric operations  ensuring customer satisfaction by achieving service quality norms  Analyzing of all operational problems customer complaints and take preventive and corrective actions to resolve the same  Receive and respond to Key customer inquiries in an effective manner and provide relevant and timely information  Deft in steering banking backend operations analyzing risks and managing delinquencies with dexterity across applying techniques for maximizing recoveries and minimizing credit losses  Analyzed  identified training needs of the team members and developing organizing and conducting training programs and manage bottom quartile team to improve their performance  Preparing and maintaining daily MIS reports to evaluate the performance and efficiency of the process relate to various verticals  Measuring the performance of the processes in terms of efficiency and effectiveness matrix and ensuring adherence to SLA  Major Activities Define processes for Field Services were monitored and necessary checks were executed and controlled Also measured Vendor SLA by analyzing the TAT of vendors  the Client SLA provided to us  As per company procedures handling  ensuring vendors payment issues to be sorted out payments are processed on quarterly basis  Appropriately plan and execute each skill of operations in accordance with the departments policies and procedures  Manage relationships with business team software development team and other services to achieve project objectives Different software Worked till now  a CTL prime  Axis Bank Credit Cards b Insight  For POS Machine technical operations for Amex MID  TID Generation ATOS Venture Infotek c Ticket Management System  TATA Communications Private Services Ltd ATM  NOC Operations d Branch Portal Yalamanchili Software Exports Ltd  Prepaid Cards SBI Bank  Zaggle Prepaid Oceans Services Ltd Zaggle Prepaid Ocean Services Pvt Ltd Oct  to Till Date Designation Manager  Operations Payment Industry  Prepaid Cards  INR Education Details    Commerce Mumbai Maharashtra Mumbai University Operations Manager   Service Manager  Operations Payment Industry  Prepaid Cards  INR  FTC Skill Details  OPERATIONS Exprience   months SATISFACTION Exprience   months TRAINING Exprience   months NOC Exprience   months POINT OF SALE Exprience   monthsCompany Details  company  Zaggle Prepaid Ocean Services Pvt Ltd description  Card Operations company  Yalamanchili Software Exports Ltd description   Operations Pvt Ltd Dec  to Feb   Designation Service Manager  Operations Payment Industry  Prepaid Cards  INR  FTC  Key Contributions  A resultoriented business professional in planning executing managing processes improving efficiency of operations team building and detailing process information to determine effective result into operations  Ensuring PINs generation SLA is maintained and chargeback cases are raised in perfect timeframe  Managing email customer services properly and ensuring the emails are replied properly Also ensuring transaction monitoring is properly managed   Assisting Bankers SBI  Associated Banks for their BCP plans by getting executed in the system with the help of DRPR plans  vice versa or any other business requirements  Expertise in maintaining highest level of quality in operations ensuring adherence to all the quality parameters and procedures as per the stringent norms  Lead manage and supervise the execution of external audit engagements and responsible for presenting the findings  developing a quality reports to the senior Management and Clients  Coachmentor  team members to perform at a higher level by giving opportunities providing timely continuous feedback and working with staff to improve their communication time management decision making organization and analytical skills  Providing the solutions and services to the client in their own premises with aforesaid count of team members  Also ensuring end to end process of PR  DR as per client requirements PR DR  DR PR by interacting with internal  external stakeholders  Determining process gaps and designing  conducting training programs to enhance operational efficiency and retain talent by providing optimum opportunities for personal and professional growth company  Credit Cards description  Ensured highest standard of customer satisfaction and quality service developing new policies and procedures to improve based on customer feedback and resolving customer queries via correspondence inbound calls  email channels with the strength of  Team members company  AGS Transact Technologies Limited description  Key Contributions Lead  SPOC to Banks company  TATA Communications Payment Solutions Ltd description  To make ATMs operational within TAT by analyzing the issue is technical or nontechnical and also by interacting with internal  external stakeholders company  Vertex Customer Solutions India Private Ltd description  Key Contributions  Build positive working relationship with all team members and clients by keeping Management informed   of KYC document collection  concurrent audit progress responding timely to Management inquiries understanding the business and conducting self professionally company  Financial Inclusion Network  Operations Limited description  Key Contributions POSOperations  Cascading the adherence of process is strictly followed by team members  training them to reduce the downtime  Managing Stock of EDC Terminals  Managing Deployments of terminals through Multiple teams  Would have worked with multiple terminal make  model  Managing Inward Outward  QC of applications installed in the POS machines company  Venture Infotek Private Ltd description  Key Contributions POSOperations company  Axis Bank Ltd  Customer Services description  Aug  to Oct  MaFoiI smart  Designation Team LeaderExecutive  Emails Phone Banking  Correspondence Unit Snail Mails\",\n          \"Skill Set Hadoop Map Reduce HDFS Hive Sqoop java Duration  to  Role Hadoop Developer Rplus offers an quick simple and powerful cloud based Solution Demand Sense to accurately predict demand for your product in all your markets which Combines Enterprise and External Data to predict demand more accurately through Uses Social Conversation and Sentiments to derive demand and Identifies significant drivers of sale out of hordes of factors that Selects the best suited model out of multiple forecasting models for each product Responsibilities  Involved in deploying the product for customers gathering requirements and algorithm optimization at backend of the product  Load and transform Large Datasets of structured semi structured  Responsible to manage data coming from different sources and application  Supported Map Reduce Programs those are running on the cluster  Involved in creating Hive tables loading with data and writing hive queries which will run internally in map reduce wayEducation Details   Hadoop Developer   Hadoop Developer  Braindatawire Skill Details  APACHE HADOOP HDFS Exprience   months APACHE HADOOP SQOOP Exprience   months Hadoop Exprience   months HADOOP Exprience   months HADOOP DISTRIBUTED FILE SYSTEM Exprience   monthsCompany Details  company  Braindatawire description  Technical Skills    Programming Core Java Map Reduce Scala    Hadoop Tools HDFS Spark Map Reduce Sqoop Hive Hbase    Database MySQL Oracle    Scripting Shell Scripting    IDE Eclipse    Operating Systems Linux CentOS Windows    Source Control Git Github\",\n          \"IT Skills Area Exposure Modeling Tool Bizagi MS Visio Prototyping Tool Indigo Studio Documentation MS Office MS Word MS Excel MS Power Point Testing Proficiency Smoke Sanity Integration Functional Acceptance and UI Methodology implemented Waterfall Agile Scrum Database SQL Testing Tool HPQC Business Exposure Education Details   Bachelor Of Computer Engineering Computer Engineering Mumbai Maharashtra Thadomal Shahani Engineering college  Diploma Computer Engineering Ulhasnagar Maharashtra Institute of Technology  Secondary School Certificate  Ulhasnagar Maharashtra New English High School Senior Business Analyst  RPA   Senior Business Analyst  RPA  Hexaware Technologies Skill Details  DOCUMENTATION Exprience   months TESTING Exprience   months INTEGRATION Exprience   months INTEGRATOR Exprience   months PROTOTYPE Exprience   monthsCompany Details  company  Hexaware Technologies description  Working as a RPA Business Analyst company  BBH Brown Brothers Harriman  Co description  is a private bank that provides commercial banking investment management brokerage and trust services to private companies and individuals It also performs merger advisory foreign exchange custody services commercial banking and corporate financing services  Responsibilities  Performed Automation Assessment of various Processes and identified processes which can be candidates of RPA  Conducting Assessment that involves an initial Understanding of the Existing System their technology processes Usage of the tools Feasibility of tool with automation tool along with automation ROI analysis  Preparing the Automation Potential Sheet which describes the steps in the process the volume and frequency of the transaction the AHT taken by SME to perform the process and depending on the steps that could be automated Automation potential and the manual efforts that will be saved are calculated Calculating the complexity of the Process which is considered for automation and depending on all these factors Number of Bots and Number of Automation tool Licenses are determined  Implementing a Proof of Concept POC to Validate Feasibility by executing the selected critical use cases for conducting a POC which will helps to identify financial and operational benefits and provide recommendations regarding the actual need for complete automation  Gathering business requirements by conducting detailed interviews with business users stakeholders and Subject Matter Experts SMEs  Preparing Business Requirement Document and then converted Business requirements into Functional Requirements Specification   Constructing prototype early toward a design acceptable to the customer and feasible  Assisting in designing test plans test scenarios and test cases for integration regression and user acceptance testing UAT to improve the overall quality of the Automation  Participating regularly in Walkthroughs and Review meetings with Project Manager QA Engineers and Development team  Regularly interacting with offshore and onshore development teams company  FADV  First Advantage description  is a criminal background check company that delivers global solutions ranging from employment screenings to background checks The following are the processes which were covered Email Process Research Process Review Process  Responsibilities  Requirement Gathering through conducting Interviews  Brainstorming sessions with stakeholders  To develop decision models and execute those rules as per the use case specifications  To Testvalidate the decision models against document test data  To maintain and enhance the decision models for changes in regulations as per use case specifications  Responsible for performing the business research that will make a business growth  Developing a clear understanding of existing business functions and processes  Effectively communicate with the onsite clients for the queries suggestions and update  Giving suggestions to enhance the current processes  Identifying areas for process improvement  Flagging up potential problems at an early stage  Preparing PowerPoint presentations and documents for business meetings  Using any information gathered to write up detailed reports  Highlighting risks and issues that could impact project delivery  Able to work accurately  To develop and maintain documentation for internal team training and client end user operations  To work efficiently with team members and across teams  To mentor and train junior team members company  Clinical Testing Lab Work and Diagnostic Testing description  IQVIA provides services to its customers this includes Clinical Testing Lab Work and Diagnostic Testing under clinical trial These customers need to pay to IQVIA and aging details and invoices are generated for the same The following are the processes which were covered  Tracking Payments Automated Real Time Metrics Reporting Dashboard Past Due Notifications AR Statements CreditRebill Responsibilities  Conducting meetings with clients and key stakeholders to gather requirements analyze finalize and have formal signoffs from approvers Gather and perform analysis of the business requirements  Translating the business requirements into the Business Requirement Document BRD Functional Requirement Document FRD  Facilitating meetings with the appropriate subject matter experts in both business and technology teams  Coordinating with business user community for the execution of user acceptance test as well as tracking issues  Working collaborating and coordinating with Offshore and Onsite team members to fulfill the BA responsibilities from project initiation to PostImplementation  Reviewing the test scripts with business users as well as technology team Execute test scripts with expected results for the System Integration Test SIT and User Acceptance Test UAT  Coordinating and conducting the Production Acceptance Testing PAT with the business users  Creating flow diagrams structure charts and other types of system or process representations  Managing changes to requirements and baseline through a change control process  Utilizing standard methods design and testing tools throughout project development life cycle  Work closely with the operational functional teams operations management and personnel and various technology teams to facilitate a shared understanding of requirements and priorities across all areas company  Eduavenir IT Solution description  Project MBMS  MBMS  is an Inventory management application that allows user to manage inventory details of different warehouses having different products located at various locations and help extract what goods have been procured sold or returned by customers It generates automated invoicesalong withcustomized reports It also managescustomer complaint and resolution system implementation along with automated MIS on monthly basisSales and forecastingis also developed on MIS System and the streamlining of process of warehousing and dispatch along with online proof of delivery management system POD documentation is generated  Responsibilities  Participate in requirement gathering discussion with client to understand the flow of business processes  Analyze the requirements and determine the core processes develop Process Documentation and ensure to stay uptodate in conjunction with ongoing changes  Participate in process flow analysis and preparing BRD SRS  Coordinating with developers designers  operations teams for various nuances of the project communicate the stakeholder requirements from requirement enhancement to implementation and finally deliver the same within estimated timeframe  Support UAT by reviewing test cases manage version control of documents software builds  Coordinate with the stakeholders for UAT sign off and coordinate internally for production movement till Golive stage of the application  Provide demo and training to internal and end user using PowerPoint presentation  Resolving project functional technical issues during UAT  Prioritizing the Production bugs and resolving the same within the estimated timeframe  Preparing Project Status Report and Production Bugs Status to all the stakeholders  Promoting and Networking for online trading platform  Designing query sheet for obtaining and comparison of quotes from various vendors  Development of product codes  material codes for inventory management Master Data Management company  CAPGEMINI Head Office description  Type Mobile and Device Testing       Duration January   August   Follet  An application which takes an electronic request from the user for the books he requires from a particular follet store This detailed information about books that will include the name of the book its price the date of the transaction and the parties involved which will then be sent to follet stores User then create request for one or more books for a given date This request is then processed further and user gets a mail of the date when he will be provided with that book  Responsibilities  Understanding the needs and business requirements  Preparing BRD SRS by eliciting all the requirements from the client and SMEs  Understanding the dependency of the modules in the system  Preparation of test plan for Unit level and Integration level  Preparation and execution of test cases  Defect tracking Issue Resolution Risk Monitoring Status Tracking Reporting and Followup  Preparation of Test Completion report company  CAPGEMINI Head Office description   company  CAPGEMINI Head Office description  Humana is a health care insurance project of US which deals with supplying various medicines to citizens as per the doctors reference and patients insurance policy This application keeps track of all the medicines user has consumed in the past and generates a patient history A citizen is given a drug only after the doctors reference so the doctors information is also linked with the patients history  Responsibilities  Understanding the requirements and getting clarifications from client  Involved in writing test cases based on test scenarios and execute them  Ensuring Test Coverage using Requirement Traceability Matrix RTM  Preparation of Test Completion report company  CAPGEMINI Head Office description  Testing Trends WQR World Quality Report is an application which allows the users to take a survey on different methods and technologies used for testing Users can choose to answer any type of questions under three different categories Users have a facility to search view and export the data to excel Also users get daily and weekly reports through email about the new trends in testing implemented around the globe Testing Trends WQR app is available on Android and IOS platforms  Responsibilities  Understanding the requirements and getting clarifications from client  Writing test cases based on test scenarios and executed them  Performing different types of testing such as Functional Integration System and UAT  Defect resolution and maintenance of the application\"\n        ],\n        \"semantic_type\": \"\",\n        \"description\": \"\"\n      }\n    },\n    {\n      \"column\": \"Tokenized_Resume\",\n      \"properties\": {\n        \"dtype\": \"object\",\n        \"semantic_type\": \"\",\n        \"description\": \"\"\n      }\n    }\n  ]\n}"
            }
          },
          "metadata": {},
          "execution_count": 21
        }
      ]
    },
    {
      "cell_type": "markdown",
      "source": [
        "\n",
        "\n",
        "---\n",
        "\n"
      ],
      "metadata": {
        "id": "m-1Y6N9ViCW_"
      }
    },
    {
      "cell_type": "markdown",
      "source": [
        "Now we need to classify the tokens as 'Skills', 'Experience' and 'Projects'.  \n",
        "To achieve this, I am using a very simple (and risky) approach.  \n",
        "While typing their resumes, each candidate must have given headings, such as  \n",
        "'Education', 'Skills', 'Past Experience', etc.  \n",
        "For a given candidate, I will search all the tokens for our three keywords.  \n",
        "After this, I will assume that all the tokens between Keyword 1 and Keyword 2  \n",
        "belong to Keyword 1.  \n",
        "The approach is very simple, but it depends on the candidates....what titles  \n",
        "they actually used.   \n",
        "If our keywords are not in the resume, the approach simply fails.  \n",
        "This was the primary reason behind the data cleaning steps.  \n",
        "Removing irrelevant data will make sure that the tokens found between any two  \n",
        "keywords will be sufficiently related to the first keyword.  "
      ],
      "metadata": {
        "id": "5VZGtqIWiBlR"
      }
    },
    {
      "cell_type": "code",
      "source": [
        "def extract_sections(resume_tokens):\n",
        "    sections = {\"Skills\": [], \"Work Experience\": [], \"Projects\": []}\n",
        "    current_section = None\n",
        "    section_keywords = {\n",
        "        (\"skill\", \"skills\"): \"Skills\", # we account for both lower case and camel case\n",
        "        (\"experience\", \"work experience\"): \"Work Experience\",\n",
        "        (\"project\", \"projects\"): \"Projects\"\n",
        "    }\n",
        "\n",
        "    # Join tokens back into a string for easier pattern matching\n",
        "    resume_text = \" \".join(resume_tokens).lower()\n",
        "\n",
        "    #  we use regular expressions to find sections based on keywords\n",
        "    for keywords, section_name in section_keywords.items():\n",
        "        pattern = r\"({})\".format(\"|\".join(keywords))\n",
        "        matches = list(re.finditer(pattern, resume_text))\n",
        "\n",
        "        if matches:\n",
        "            # assuming the text after the first match of a keyword belongs to that section\n",
        "            start_index = matches[0].end()\n",
        "            # finding the start of the next potential section to define the end of the current one\n",
        "            next_section_starts = [re.search(other_pattern, resume_text[start_index:]) for other_keywords, other_pattern in section_keywords.items() for other_pattern in [r\"({})\".format(\"|\".join(other_keywords))]]\n",
        "            next_section_starts = [match.start() + start_index for match in next_section_starts if match]\n",
        "\n",
        "            end_index = min(next_section_starts) if next_section_starts else len(resume_text)\n",
        "\n",
        "            sections[section_name] = [resume_text[start_index:end_index].strip()]\n",
        "\n",
        "    return sections\n",
        "\n",
        "df['Extracted_Features'] = df['Tokenized_Resume'].apply(extract_sections)\n",
        "df.head()"
      ],
      "metadata": {
        "colab": {
          "base_uri": "https://localhost:8080/",
          "height": 206
        },
        "id": "0k0jGi4ASZJY",
        "outputId": "8ece3706-4274-4c53-a30a-9d119bae9048"
      },
      "execution_count": 22,
      "outputs": [
        {
          "output_type": "execute_result",
          "data": {
            "text/plain": [
              "       Category                                             Resume  \\\n",
              "0  Data Science  Skills  Programming Languages Python pandas nu...   \n",
              "1  Data Science  Education Details  May  to May  BE   UITRGPV D...   \n",
              "2  Data Science  Areas of Interest Deep Learning Control System...   \n",
              "3  Data Science  Skills  R  Python  SAP HANA  Tableau  SAP HANA...   \n",
              "4  Data Science  Education Details   MCA   YMCAUST  Faridabad  ...   \n",
              "\n",
              "                                    Tokenized_Resume  \\\n",
              "0  [Skills,  , Programming, Languages, Python, pa...   \n",
              "1  [Education, Details,  , May,  , to, May,  , BE...   \n",
              "2  [Areas, of, Interest, Deep, Learning, Control,...   \n",
              "3  [Skills,  , R,  , Python,  , SAP, HANA,  , Tab...   \n",
              "4  [Education, Details,   , MCA,   , YMCAUST,  , ...   \n",
              "\n",
              "                                  Extracted_Features  \n",
              "0  {'Skills': ['s   programming languages python ...  \n",
              "1  {'Skills': ['details   python exprience   less...  \n",
              "2  {'Skills': ['s programming matlab python and j...  \n",
              "3  {'Skills': ['s   r   python   sap hana   table...  \n",
              "4  {'Skills': ['details   data structure exprienc...  "
            ],
            "text/html": [
              "\n",
              "  <div id=\"df-d1cdbb76-20d8-451e-97a1-5138a97890a1\" class=\"colab-df-container\">\n",
              "    <div>\n",
              "<style scoped>\n",
              "    .dataframe tbody tr th:only-of-type {\n",
              "        vertical-align: middle;\n",
              "    }\n",
              "\n",
              "    .dataframe tbody tr th {\n",
              "        vertical-align: top;\n",
              "    }\n",
              "\n",
              "    .dataframe thead th {\n",
              "        text-align: right;\n",
              "    }\n",
              "</style>\n",
              "<table border=\"1\" class=\"dataframe\">\n",
              "  <thead>\n",
              "    <tr style=\"text-align: right;\">\n",
              "      <th></th>\n",
              "      <th>Category</th>\n",
              "      <th>Resume</th>\n",
              "      <th>Tokenized_Resume</th>\n",
              "      <th>Extracted_Features</th>\n",
              "    </tr>\n",
              "  </thead>\n",
              "  <tbody>\n",
              "    <tr>\n",
              "      <th>0</th>\n",
              "      <td>Data Science</td>\n",
              "      <td>Skills  Programming Languages Python pandas nu...</td>\n",
              "      <td>[Skills,  , Programming, Languages, Python, pa...</td>\n",
              "      <td>{'Skills': ['s   programming languages python ...</td>\n",
              "    </tr>\n",
              "    <tr>\n",
              "      <th>1</th>\n",
              "      <td>Data Science</td>\n",
              "      <td>Education Details  May  to May  BE   UITRGPV D...</td>\n",
              "      <td>[Education, Details,  , May,  , to, May,  , BE...</td>\n",
              "      <td>{'Skills': ['details   python exprience   less...</td>\n",
              "    </tr>\n",
              "    <tr>\n",
              "      <th>2</th>\n",
              "      <td>Data Science</td>\n",
              "      <td>Areas of Interest Deep Learning Control System...</td>\n",
              "      <td>[Areas, of, Interest, Deep, Learning, Control,...</td>\n",
              "      <td>{'Skills': ['s programming matlab python and j...</td>\n",
              "    </tr>\n",
              "    <tr>\n",
              "      <th>3</th>\n",
              "      <td>Data Science</td>\n",
              "      <td>Skills  R  Python  SAP HANA  Tableau  SAP HANA...</td>\n",
              "      <td>[Skills,  , R,  , Python,  , SAP, HANA,  , Tab...</td>\n",
              "      <td>{'Skills': ['s   r   python   sap hana   table...</td>\n",
              "    </tr>\n",
              "    <tr>\n",
              "      <th>4</th>\n",
              "      <td>Data Science</td>\n",
              "      <td>Education Details   MCA   YMCAUST  Faridabad  ...</td>\n",
              "      <td>[Education, Details,   , MCA,   , YMCAUST,  , ...</td>\n",
              "      <td>{'Skills': ['details   data structure exprienc...</td>\n",
              "    </tr>\n",
              "  </tbody>\n",
              "</table>\n",
              "</div>\n",
              "    <div class=\"colab-df-buttons\">\n",
              "\n",
              "  <div class=\"colab-df-container\">\n",
              "    <button class=\"colab-df-convert\" onclick=\"convertToInteractive('df-d1cdbb76-20d8-451e-97a1-5138a97890a1')\"\n",
              "            title=\"Convert this dataframe to an interactive table.\"\n",
              "            style=\"display:none;\">\n",
              "\n",
              "  <svg xmlns=\"http://www.w3.org/2000/svg\" height=\"24px\" viewBox=\"0 -960 960 960\">\n",
              "    <path d=\"M120-120v-720h720v720H120Zm60-500h600v-160H180v160Zm220 220h160v-160H400v160Zm0 220h160v-160H400v160ZM180-400h160v-160H180v160Zm440 0h160v-160H620v160ZM180-180h160v-160H180v160Zm440 0h160v-160H620v160Z\"/>\n",
              "  </svg>\n",
              "    </button>\n",
              "\n",
              "  <style>\n",
              "    .colab-df-container {\n",
              "      display:flex;\n",
              "      gap: 12px;\n",
              "    }\n",
              "\n",
              "    .colab-df-convert {\n",
              "      background-color: #E8F0FE;\n",
              "      border: none;\n",
              "      border-radius: 50%;\n",
              "      cursor: pointer;\n",
              "      display: none;\n",
              "      fill: #1967D2;\n",
              "      height: 32px;\n",
              "      padding: 0 0 0 0;\n",
              "      width: 32px;\n",
              "    }\n",
              "\n",
              "    .colab-df-convert:hover {\n",
              "      background-color: #E2EBFA;\n",
              "      box-shadow: 0px 1px 2px rgba(60, 64, 67, 0.3), 0px 1px 3px 1px rgba(60, 64, 67, 0.15);\n",
              "      fill: #174EA6;\n",
              "    }\n",
              "\n",
              "    .colab-df-buttons div {\n",
              "      margin-bottom: 4px;\n",
              "    }\n",
              "\n",
              "    [theme=dark] .colab-df-convert {\n",
              "      background-color: #3B4455;\n",
              "      fill: #D2E3FC;\n",
              "    }\n",
              "\n",
              "    [theme=dark] .colab-df-convert:hover {\n",
              "      background-color: #434B5C;\n",
              "      box-shadow: 0px 1px 3px 1px rgba(0, 0, 0, 0.15);\n",
              "      filter: drop-shadow(0px 1px 2px rgba(0, 0, 0, 0.3));\n",
              "      fill: #FFFFFF;\n",
              "    }\n",
              "  </style>\n",
              "\n",
              "    <script>\n",
              "      const buttonEl =\n",
              "        document.querySelector('#df-d1cdbb76-20d8-451e-97a1-5138a97890a1 button.colab-df-convert');\n",
              "      buttonEl.style.display =\n",
              "        google.colab.kernel.accessAllowed ? 'block' : 'none';\n",
              "\n",
              "      async function convertToInteractive(key) {\n",
              "        const element = document.querySelector('#df-d1cdbb76-20d8-451e-97a1-5138a97890a1');\n",
              "        const dataTable =\n",
              "          await google.colab.kernel.invokeFunction('convertToInteractive',\n",
              "                                                    [key], {});\n",
              "        if (!dataTable) return;\n",
              "\n",
              "        const docLinkHtml = 'Like what you see? Visit the ' +\n",
              "          '<a target=\"_blank\" href=https://colab.research.google.com/notebooks/data_table.ipynb>data table notebook</a>'\n",
              "          + ' to learn more about interactive tables.';\n",
              "        element.innerHTML = '';\n",
              "        dataTable['output_type'] = 'display_data';\n",
              "        await google.colab.output.renderOutput(dataTable, element);\n",
              "        const docLink = document.createElement('div');\n",
              "        docLink.innerHTML = docLinkHtml;\n",
              "        element.appendChild(docLink);\n",
              "      }\n",
              "    </script>\n",
              "  </div>\n",
              "\n",
              "\n",
              "    <div id=\"df-49f985a5-6823-4f40-ba3c-9fd5a363c57f\">\n",
              "      <button class=\"colab-df-quickchart\" onclick=\"quickchart('df-49f985a5-6823-4f40-ba3c-9fd5a363c57f')\"\n",
              "                title=\"Suggest charts\"\n",
              "                style=\"display:none;\">\n",
              "\n",
              "<svg xmlns=\"http://www.w3.org/2000/svg\" height=\"24px\"viewBox=\"0 0 24 24\"\n",
              "     width=\"24px\">\n",
              "    <g>\n",
              "        <path d=\"M19 3H5c-1.1 0-2 .9-2 2v14c0 1.1.9 2 2 2h14c1.1 0 2-.9 2-2V5c0-1.1-.9-2-2-2zM9 17H7v-7h2v7zm4 0h-2V7h2v10zm4 0h-2v-4h2v4z\"/>\n",
              "    </g>\n",
              "</svg>\n",
              "      </button>\n",
              "\n",
              "<style>\n",
              "  .colab-df-quickchart {\n",
              "      --bg-color: #E8F0FE;\n",
              "      --fill-color: #1967D2;\n",
              "      --hover-bg-color: #E2EBFA;\n",
              "      --hover-fill-color: #174EA6;\n",
              "      --disabled-fill-color: #AAA;\n",
              "      --disabled-bg-color: #DDD;\n",
              "  }\n",
              "\n",
              "  [theme=dark] .colab-df-quickchart {\n",
              "      --bg-color: #3B4455;\n",
              "      --fill-color: #D2E3FC;\n",
              "      --hover-bg-color: #434B5C;\n",
              "      --hover-fill-color: #FFFFFF;\n",
              "      --disabled-bg-color: #3B4455;\n",
              "      --disabled-fill-color: #666;\n",
              "  }\n",
              "\n",
              "  .colab-df-quickchart {\n",
              "    background-color: var(--bg-color);\n",
              "    border: none;\n",
              "    border-radius: 50%;\n",
              "    cursor: pointer;\n",
              "    display: none;\n",
              "    fill: var(--fill-color);\n",
              "    height: 32px;\n",
              "    padding: 0;\n",
              "    width: 32px;\n",
              "  }\n",
              "\n",
              "  .colab-df-quickchart:hover {\n",
              "    background-color: var(--hover-bg-color);\n",
              "    box-shadow: 0 1px 2px rgba(60, 64, 67, 0.3), 0 1px 3px 1px rgba(60, 64, 67, 0.15);\n",
              "    fill: var(--button-hover-fill-color);\n",
              "  }\n",
              "\n",
              "  .colab-df-quickchart-complete:disabled,\n",
              "  .colab-df-quickchart-complete:disabled:hover {\n",
              "    background-color: var(--disabled-bg-color);\n",
              "    fill: var(--disabled-fill-color);\n",
              "    box-shadow: none;\n",
              "  }\n",
              "\n",
              "  .colab-df-spinner {\n",
              "    border: 2px solid var(--fill-color);\n",
              "    border-color: transparent;\n",
              "    border-bottom-color: var(--fill-color);\n",
              "    animation:\n",
              "      spin 1s steps(1) infinite;\n",
              "  }\n",
              "\n",
              "  @keyframes spin {\n",
              "    0% {\n",
              "      border-color: transparent;\n",
              "      border-bottom-color: var(--fill-color);\n",
              "      border-left-color: var(--fill-color);\n",
              "    }\n",
              "    20% {\n",
              "      border-color: transparent;\n",
              "      border-left-color: var(--fill-color);\n",
              "      border-top-color: var(--fill-color);\n",
              "    }\n",
              "    30% {\n",
              "      border-color: transparent;\n",
              "      border-left-color: var(--fill-color);\n",
              "      border-top-color: var(--fill-color);\n",
              "      border-right-color: var(--fill-color);\n",
              "    }\n",
              "    40% {\n",
              "      border-color: transparent;\n",
              "      border-right-color: var(--fill-color);\n",
              "      border-top-color: var(--fill-color);\n",
              "    }\n",
              "    60% {\n",
              "      border-color: transparent;\n",
              "      border-right-color: var(--fill-color);\n",
              "    }\n",
              "    80% {\n",
              "      border-color: transparent;\n",
              "      border-right-color: var(--fill-color);\n",
              "      border-bottom-color: var(--fill-color);\n",
              "    }\n",
              "    90% {\n",
              "      border-color: transparent;\n",
              "      border-bottom-color: var(--fill-color);\n",
              "    }\n",
              "  }\n",
              "</style>\n",
              "\n",
              "      <script>\n",
              "        async function quickchart(key) {\n",
              "          const quickchartButtonEl =\n",
              "            document.querySelector('#' + key + ' button');\n",
              "          quickchartButtonEl.disabled = true;  // To prevent multiple clicks.\n",
              "          quickchartButtonEl.classList.add('colab-df-spinner');\n",
              "          try {\n",
              "            const charts = await google.colab.kernel.invokeFunction(\n",
              "                'suggestCharts', [key], {});\n",
              "          } catch (error) {\n",
              "            console.error('Error during call to suggestCharts:', error);\n",
              "          }\n",
              "          quickchartButtonEl.classList.remove('colab-df-spinner');\n",
              "          quickchartButtonEl.classList.add('colab-df-quickchart-complete');\n",
              "        }\n",
              "        (() => {\n",
              "          let quickchartButtonEl =\n",
              "            document.querySelector('#df-49f985a5-6823-4f40-ba3c-9fd5a363c57f button');\n",
              "          quickchartButtonEl.style.display =\n",
              "            google.colab.kernel.accessAllowed ? 'block' : 'none';\n",
              "        })();\n",
              "      </script>\n",
              "    </div>\n",
              "\n",
              "    </div>\n",
              "  </div>\n"
            ],
            "application/vnd.google.colaboratory.intrinsic+json": {
              "type": "dataframe",
              "variable_name": "df",
              "summary": "{\n  \"name\": \"df\",\n  \"rows\": 962,\n  \"fields\": [\n    {\n      \"column\": \"Category\",\n      \"properties\": {\n        \"dtype\": \"category\",\n        \"num_unique_values\": 25,\n        \"samples\": [\n          \"Civil Engineer\",\n          \"DevOps Engineer\",\n          \"Data Science\"\n        ],\n        \"semantic_type\": \"\",\n        \"description\": \"\"\n      }\n    },\n    {\n      \"column\": \"Resume\",\n      \"properties\": {\n        \"dtype\": \"category\",\n        \"num_unique_values\": 166,\n        \"samples\": [\n          \"KEY COMPETENCIES Multi  Operations ManagementPeople Management Customer Services  Emails  MIS Vendor  Client Services ManagementCross Functional CoordinationBanking  Financial Services Transaction Monitoring  ATM Operations   Prepaid Card Operations PreIssuance  PostIssuance  POS Operations  JOB PROFILE  SKILLS  An effective communicator with excellent relationship building  interpersonal skills Strong analytical problem solving  organizational abilities  Extensive experience in managing operations with demonstrated leadership qualities  organisational skills during the tenure  Managing customer centric operations  ensuring customer satisfaction by achieving service quality norms  Analyzing of all operational problems customer complaints and take preventive and corrective actions to resolve the same  Receive and respond to Key customer inquiries in an effective manner and provide relevant and timely information  Deft in steering banking backend operations analyzing risks and managing delinquencies with dexterity across applying techniques for maximizing recoveries and minimizing credit losses  Analyzed  identified training needs of the team members and developing organizing and conducting training programs and manage bottom quartile team to improve their performance  Preparing and maintaining daily MIS reports to evaluate the performance and efficiency of the process relate to various verticals  Measuring the performance of the processes in terms of efficiency and effectiveness matrix and ensuring adherence to SLA  Major Activities Define processes for Field Services were monitored and necessary checks were executed and controlled Also measured Vendor SLA by analyzing the TAT of vendors  the Client SLA provided to us  As per company procedures handling  ensuring vendors payment issues to be sorted out payments are processed on quarterly basis  Appropriately plan and execute each skill of operations in accordance with the departments policies and procedures  Manage relationships with business team software development team and other services to achieve project objectives Different software Worked till now  a CTL prime  Axis Bank Credit Cards b Insight  For POS Machine technical operations for Amex MID  TID Generation ATOS Venture Infotek c Ticket Management System  TATA Communications Private Services Ltd ATM  NOC Operations d Branch Portal Yalamanchili Software Exports Ltd  Prepaid Cards SBI Bank  Zaggle Prepaid Oceans Services Ltd Zaggle Prepaid Ocean Services Pvt Ltd Oct  to Till Date Designation Manager  Operations Payment Industry  Prepaid Cards  INR Education Details    Commerce Mumbai Maharashtra Mumbai University Operations Manager   Service Manager  Operations Payment Industry  Prepaid Cards  INR  FTC Skill Details  OPERATIONS Exprience   months SATISFACTION Exprience   months TRAINING Exprience   months NOC Exprience   months POINT OF SALE Exprience   monthsCompany Details  company  Zaggle Prepaid Ocean Services Pvt Ltd description  Card Operations company  Yalamanchili Software Exports Ltd description   Operations Pvt Ltd Dec  to Feb   Designation Service Manager  Operations Payment Industry  Prepaid Cards  INR  FTC  Key Contributions  A resultoriented business professional in planning executing managing processes improving efficiency of operations team building and detailing process information to determine effective result into operations  Ensuring PINs generation SLA is maintained and chargeback cases are raised in perfect timeframe  Managing email customer services properly and ensuring the emails are replied properly Also ensuring transaction monitoring is properly managed   Assisting Bankers SBI  Associated Banks for their BCP plans by getting executed in the system with the help of DRPR plans  vice versa or any other business requirements  Expertise in maintaining highest level of quality in operations ensuring adherence to all the quality parameters and procedures as per the stringent norms  Lead manage and supervise the execution of external audit engagements and responsible for presenting the findings  developing a quality reports to the senior Management and Clients  Coachmentor  team members to perform at a higher level by giving opportunities providing timely continuous feedback and working with staff to improve their communication time management decision making organization and analytical skills  Providing the solutions and services to the client in their own premises with aforesaid count of team members  Also ensuring end to end process of PR  DR as per client requirements PR DR  DR PR by interacting with internal  external stakeholders  Determining process gaps and designing  conducting training programs to enhance operational efficiency and retain talent by providing optimum opportunities for personal and professional growth company  Credit Cards description  Ensured highest standard of customer satisfaction and quality service developing new policies and procedures to improve based on customer feedback and resolving customer queries via correspondence inbound calls  email channels with the strength of  Team members company  AGS Transact Technologies Limited description  Key Contributions Lead  SPOC to Banks company  TATA Communications Payment Solutions Ltd description  To make ATMs operational within TAT by analyzing the issue is technical or nontechnical and also by interacting with internal  external stakeholders company  Vertex Customer Solutions India Private Ltd description  Key Contributions  Build positive working relationship with all team members and clients by keeping Management informed   of KYC document collection  concurrent audit progress responding timely to Management inquiries understanding the business and conducting self professionally company  Financial Inclusion Network  Operations Limited description  Key Contributions POSOperations  Cascading the adherence of process is strictly followed by team members  training them to reduce the downtime  Managing Stock of EDC Terminals  Managing Deployments of terminals through Multiple teams  Would have worked with multiple terminal make  model  Managing Inward Outward  QC of applications installed in the POS machines company  Venture Infotek Private Ltd description  Key Contributions POSOperations company  Axis Bank Ltd  Customer Services description  Aug  to Oct  MaFoiI smart  Designation Team LeaderExecutive  Emails Phone Banking  Correspondence Unit Snail Mails\",\n          \"Skill Set Hadoop Map Reduce HDFS Hive Sqoop java Duration  to  Role Hadoop Developer Rplus offers an quick simple and powerful cloud based Solution Demand Sense to accurately predict demand for your product in all your markets which Combines Enterprise and External Data to predict demand more accurately through Uses Social Conversation and Sentiments to derive demand and Identifies significant drivers of sale out of hordes of factors that Selects the best suited model out of multiple forecasting models for each product Responsibilities  Involved in deploying the product for customers gathering requirements and algorithm optimization at backend of the product  Load and transform Large Datasets of structured semi structured  Responsible to manage data coming from different sources and application  Supported Map Reduce Programs those are running on the cluster  Involved in creating Hive tables loading with data and writing hive queries which will run internally in map reduce wayEducation Details   Hadoop Developer   Hadoop Developer  Braindatawire Skill Details  APACHE HADOOP HDFS Exprience   months APACHE HADOOP SQOOP Exprience   months Hadoop Exprience   months HADOOP Exprience   months HADOOP DISTRIBUTED FILE SYSTEM Exprience   monthsCompany Details  company  Braindatawire description  Technical Skills    Programming Core Java Map Reduce Scala    Hadoop Tools HDFS Spark Map Reduce Sqoop Hive Hbase    Database MySQL Oracle    Scripting Shell Scripting    IDE Eclipse    Operating Systems Linux CentOS Windows    Source Control Git Github\",\n          \"IT Skills Area Exposure Modeling Tool Bizagi MS Visio Prototyping Tool Indigo Studio Documentation MS Office MS Word MS Excel MS Power Point Testing Proficiency Smoke Sanity Integration Functional Acceptance and UI Methodology implemented Waterfall Agile Scrum Database SQL Testing Tool HPQC Business Exposure Education Details   Bachelor Of Computer Engineering Computer Engineering Mumbai Maharashtra Thadomal Shahani Engineering college  Diploma Computer Engineering Ulhasnagar Maharashtra Institute of Technology  Secondary School Certificate  Ulhasnagar Maharashtra New English High School Senior Business Analyst  RPA   Senior Business Analyst  RPA  Hexaware Technologies Skill Details  DOCUMENTATION Exprience   months TESTING Exprience   months INTEGRATION Exprience   months INTEGRATOR Exprience   months PROTOTYPE Exprience   monthsCompany Details  company  Hexaware Technologies description  Working as a RPA Business Analyst company  BBH Brown Brothers Harriman  Co description  is a private bank that provides commercial banking investment management brokerage and trust services to private companies and individuals It also performs merger advisory foreign exchange custody services commercial banking and corporate financing services  Responsibilities  Performed Automation Assessment of various Processes and identified processes which can be candidates of RPA  Conducting Assessment that involves an initial Understanding of the Existing System their technology processes Usage of the tools Feasibility of tool with automation tool along with automation ROI analysis  Preparing the Automation Potential Sheet which describes the steps in the process the volume and frequency of the transaction the AHT taken by SME to perform the process and depending on the steps that could be automated Automation potential and the manual efforts that will be saved are calculated Calculating the complexity of the Process which is considered for automation and depending on all these factors Number of Bots and Number of Automation tool Licenses are determined  Implementing a Proof of Concept POC to Validate Feasibility by executing the selected critical use cases for conducting a POC which will helps to identify financial and operational benefits and provide recommendations regarding the actual need for complete automation  Gathering business requirements by conducting detailed interviews with business users stakeholders and Subject Matter Experts SMEs  Preparing Business Requirement Document and then converted Business requirements into Functional Requirements Specification   Constructing prototype early toward a design acceptable to the customer and feasible  Assisting in designing test plans test scenarios and test cases for integration regression and user acceptance testing UAT to improve the overall quality of the Automation  Participating regularly in Walkthroughs and Review meetings with Project Manager QA Engineers and Development team  Regularly interacting with offshore and onshore development teams company  FADV  First Advantage description  is a criminal background check company that delivers global solutions ranging from employment screenings to background checks The following are the processes which were covered Email Process Research Process Review Process  Responsibilities  Requirement Gathering through conducting Interviews  Brainstorming sessions with stakeholders  To develop decision models and execute those rules as per the use case specifications  To Testvalidate the decision models against document test data  To maintain and enhance the decision models for changes in regulations as per use case specifications  Responsible for performing the business research that will make a business growth  Developing a clear understanding of existing business functions and processes  Effectively communicate with the onsite clients for the queries suggestions and update  Giving suggestions to enhance the current processes  Identifying areas for process improvement  Flagging up potential problems at an early stage  Preparing PowerPoint presentations and documents for business meetings  Using any information gathered to write up detailed reports  Highlighting risks and issues that could impact project delivery  Able to work accurately  To develop and maintain documentation for internal team training and client end user operations  To work efficiently with team members and across teams  To mentor and train junior team members company  Clinical Testing Lab Work and Diagnostic Testing description  IQVIA provides services to its customers this includes Clinical Testing Lab Work and Diagnostic Testing under clinical trial These customers need to pay to IQVIA and aging details and invoices are generated for the same The following are the processes which were covered  Tracking Payments Automated Real Time Metrics Reporting Dashboard Past Due Notifications AR Statements CreditRebill Responsibilities  Conducting meetings with clients and key stakeholders to gather requirements analyze finalize and have formal signoffs from approvers Gather and perform analysis of the business requirements  Translating the business requirements into the Business Requirement Document BRD Functional Requirement Document FRD  Facilitating meetings with the appropriate subject matter experts in both business and technology teams  Coordinating with business user community for the execution of user acceptance test as well as tracking issues  Working collaborating and coordinating with Offshore and Onsite team members to fulfill the BA responsibilities from project initiation to PostImplementation  Reviewing the test scripts with business users as well as technology team Execute test scripts with expected results for the System Integration Test SIT and User Acceptance Test UAT  Coordinating and conducting the Production Acceptance Testing PAT with the business users  Creating flow diagrams structure charts and other types of system or process representations  Managing changes to requirements and baseline through a change control process  Utilizing standard methods design and testing tools throughout project development life cycle  Work closely with the operational functional teams operations management and personnel and various technology teams to facilitate a shared understanding of requirements and priorities across all areas company  Eduavenir IT Solution description  Project MBMS  MBMS  is an Inventory management application that allows user to manage inventory details of different warehouses having different products located at various locations and help extract what goods have been procured sold or returned by customers It generates automated invoicesalong withcustomized reports It also managescustomer complaint and resolution system implementation along with automated MIS on monthly basisSales and forecastingis also developed on MIS System and the streamlining of process of warehousing and dispatch along with online proof of delivery management system POD documentation is generated  Responsibilities  Participate in requirement gathering discussion with client to understand the flow of business processes  Analyze the requirements and determine the core processes develop Process Documentation and ensure to stay uptodate in conjunction with ongoing changes  Participate in process flow analysis and preparing BRD SRS  Coordinating with developers designers  operations teams for various nuances of the project communicate the stakeholder requirements from requirement enhancement to implementation and finally deliver the same within estimated timeframe  Support UAT by reviewing test cases manage version control of documents software builds  Coordinate with the stakeholders for UAT sign off and coordinate internally for production movement till Golive stage of the application  Provide demo and training to internal and end user using PowerPoint presentation  Resolving project functional technical issues during UAT  Prioritizing the Production bugs and resolving the same within the estimated timeframe  Preparing Project Status Report and Production Bugs Status to all the stakeholders  Promoting and Networking for online trading platform  Designing query sheet for obtaining and comparison of quotes from various vendors  Development of product codes  material codes for inventory management Master Data Management company  CAPGEMINI Head Office description  Type Mobile and Device Testing       Duration January   August   Follet  An application which takes an electronic request from the user for the books he requires from a particular follet store This detailed information about books that will include the name of the book its price the date of the transaction and the parties involved which will then be sent to follet stores User then create request for one or more books for a given date This request is then processed further and user gets a mail of the date when he will be provided with that book  Responsibilities  Understanding the needs and business requirements  Preparing BRD SRS by eliciting all the requirements from the client and SMEs  Understanding the dependency of the modules in the system  Preparation of test plan for Unit level and Integration level  Preparation and execution of test cases  Defect tracking Issue Resolution Risk Monitoring Status Tracking Reporting and Followup  Preparation of Test Completion report company  CAPGEMINI Head Office description   company  CAPGEMINI Head Office description  Humana is a health care insurance project of US which deals with supplying various medicines to citizens as per the doctors reference and patients insurance policy This application keeps track of all the medicines user has consumed in the past and generates a patient history A citizen is given a drug only after the doctors reference so the doctors information is also linked with the patients history  Responsibilities  Understanding the requirements and getting clarifications from client  Involved in writing test cases based on test scenarios and execute them  Ensuring Test Coverage using Requirement Traceability Matrix RTM  Preparation of Test Completion report company  CAPGEMINI Head Office description  Testing Trends WQR World Quality Report is an application which allows the users to take a survey on different methods and technologies used for testing Users can choose to answer any type of questions under three different categories Users have a facility to search view and export the data to excel Also users get daily and weekly reports through email about the new trends in testing implemented around the globe Testing Trends WQR app is available on Android and IOS platforms  Responsibilities  Understanding the requirements and getting clarifications from client  Writing test cases based on test scenarios and executed them  Performing different types of testing such as Functional Integration System and UAT  Defect resolution and maintenance of the application\"\n        ],\n        \"semantic_type\": \"\",\n        \"description\": \"\"\n      }\n    },\n    {\n      \"column\": \"Tokenized_Resume\",\n      \"properties\": {\n        \"dtype\": \"object\",\n        \"semantic_type\": \"\",\n        \"description\": \"\"\n      }\n    },\n    {\n      \"column\": \"Extracted_Features\",\n      \"properties\": {\n        \"dtype\": \"object\",\n        \"semantic_type\": \"\",\n        \"description\": \"\"\n      }\n    }\n  ]\n}"
            }
          },
          "metadata": {},
          "execution_count": 22
        }
      ]
    },
    {
      "cell_type": "markdown",
      "source": [
        "\n",
        "\n",
        "---\n",
        "\n"
      ],
      "metadata": {
        "id": "clo9vlfmkD3Y"
      }
    },
    {
      "cell_type": "markdown",
      "source": [
        "**$\\LARGE \\text{WORD EMBEDDINGS}$**"
      ],
      "metadata": {
        "id": "Wnal_O-ckE2U"
      }
    },
    {
      "cell_type": "markdown",
      "source": [
        "Text cannot be fed into neural networks, so we will use models from scikit learn for this task."
      ],
      "metadata": {
        "id": "q8uvZv_Gu7-L"
      }
    },
    {
      "cell_type": "code",
      "metadata": {
        "colab": {
          "base_uri": "https://localhost:8080/",
          "height": 235
        },
        "id": "f315418c",
        "outputId": "371a5522-7636-42e4-c846-939f1431b7aa"
      },
      "source": [
        "from sklearn.feature_extraction.text import TfidfVectorizer\n",
        "\n",
        "# Concatenate extracted sections for each resume\n",
        "df['Concatenated_Features'] = df['Extracted_Features'].apply(lambda x: ' '.join([' '.join(section) for section in x.values()]))\n",
        "\n",
        "# Initialize TF-IDF Vectorizer\n",
        "# You might want to adjust parameters like max_features, min_df, max_df, ngram_range\n",
        "tfidf_vectorizer = TfidfVectorizer(stop_words='english', max_features=5000)\n",
        "\n",
        "# Fit and transform the concatenated features\n",
        "tfidf_matrix = tfidf_vectorizer.fit_transform(df['Concatenated_Features'])\n",
        "\n",
        "# Convert to DataFrame for easier inspection (optional)\n",
        "tfidf_df = pd.DataFrame(tfidf_matrix.toarray(), columns=tfidf_vectorizer.get_feature_names_out())\n",
        "\n",
        "tfidf_df.head()"
      ],
      "execution_count": 23,
      "outputs": [
        {
          "output_type": "execute_result",
          "data": {
            "text/plain": [
              "   aaa   ab  abacus  abap  ability  able  abridged  academia  academic  \\\n",
              "0  0.0  0.0     0.0   0.0      0.0   0.0       0.0       0.0       0.0   \n",
              "1  0.0  0.0     0.0   0.0      0.0   0.0       0.0       0.0       0.0   \n",
              "2  0.0  0.0     0.0   0.0      0.0   0.0       0.0       0.0       0.0   \n",
              "3  0.0  0.0     0.0   0.0      0.0   0.0       0.0       0.0       0.0   \n",
              "4  0.0  0.0     0.0   0.0      0.0   0.0       0.0       0.0       0.0   \n",
              "\n",
              "   academy  ...     young  yrs  zaggle  zambia   zd  zensar  zero  zhypility  \\\n",
              "0  0.00000  ...  0.049473  0.0     0.0     0.0  0.0     0.0   0.0        0.0   \n",
              "1  0.00000  ...  0.000000  0.0     0.0     0.0  0.0     0.0   0.0        0.0   \n",
              "2  0.11122  ...  0.000000  0.0     0.0     0.0  0.0     0.0   0.0        0.0   \n",
              "3  0.00000  ...  0.000000  0.0     0.0     0.0  0.0     0.0   0.0        0.0   \n",
              "4  0.00000  ...  0.000000  0.0     0.0     0.0  0.0     0.0   0.0        0.0   \n",
              "\n",
              "   zone  zookeeper  \n",
              "0   0.0        0.0  \n",
              "1   0.0        0.0  \n",
              "2   0.0        0.0  \n",
              "3   0.0        0.0  \n",
              "4   0.0        0.0  \n",
              "\n",
              "[5 rows x 3920 columns]"
            ],
            "text/html": [
              "\n",
              "  <div id=\"df-a1783eff-abf0-4426-9470-80608e9effed\" class=\"colab-df-container\">\n",
              "    <div>\n",
              "<style scoped>\n",
              "    .dataframe tbody tr th:only-of-type {\n",
              "        vertical-align: middle;\n",
              "    }\n",
              "\n",
              "    .dataframe tbody tr th {\n",
              "        vertical-align: top;\n",
              "    }\n",
              "\n",
              "    .dataframe thead th {\n",
              "        text-align: right;\n",
              "    }\n",
              "</style>\n",
              "<table border=\"1\" class=\"dataframe\">\n",
              "  <thead>\n",
              "    <tr style=\"text-align: right;\">\n",
              "      <th></th>\n",
              "      <th>aaa</th>\n",
              "      <th>ab</th>\n",
              "      <th>abacus</th>\n",
              "      <th>abap</th>\n",
              "      <th>ability</th>\n",
              "      <th>able</th>\n",
              "      <th>abridged</th>\n",
              "      <th>academia</th>\n",
              "      <th>academic</th>\n",
              "      <th>academy</th>\n",
              "      <th>...</th>\n",
              "      <th>young</th>\n",
              "      <th>yrs</th>\n",
              "      <th>zaggle</th>\n",
              "      <th>zambia</th>\n",
              "      <th>zd</th>\n",
              "      <th>zensar</th>\n",
              "      <th>zero</th>\n",
              "      <th>zhypility</th>\n",
              "      <th>zone</th>\n",
              "      <th>zookeeper</th>\n",
              "    </tr>\n",
              "  </thead>\n",
              "  <tbody>\n",
              "    <tr>\n",
              "      <th>0</th>\n",
              "      <td>0.0</td>\n",
              "      <td>0.0</td>\n",
              "      <td>0.0</td>\n",
              "      <td>0.0</td>\n",
              "      <td>0.0</td>\n",
              "      <td>0.0</td>\n",
              "      <td>0.0</td>\n",
              "      <td>0.0</td>\n",
              "      <td>0.0</td>\n",
              "      <td>0.00000</td>\n",
              "      <td>...</td>\n",
              "      <td>0.049473</td>\n",
              "      <td>0.0</td>\n",
              "      <td>0.0</td>\n",
              "      <td>0.0</td>\n",
              "      <td>0.0</td>\n",
              "      <td>0.0</td>\n",
              "      <td>0.0</td>\n",
              "      <td>0.0</td>\n",
              "      <td>0.0</td>\n",
              "      <td>0.0</td>\n",
              "    </tr>\n",
              "    <tr>\n",
              "      <th>1</th>\n",
              "      <td>0.0</td>\n",
              "      <td>0.0</td>\n",
              "      <td>0.0</td>\n",
              "      <td>0.0</td>\n",
              "      <td>0.0</td>\n",
              "      <td>0.0</td>\n",
              "      <td>0.0</td>\n",
              "      <td>0.0</td>\n",
              "      <td>0.0</td>\n",
              "      <td>0.00000</td>\n",
              "      <td>...</td>\n",
              "      <td>0.000000</td>\n",
              "      <td>0.0</td>\n",
              "      <td>0.0</td>\n",
              "      <td>0.0</td>\n",
              "      <td>0.0</td>\n",
              "      <td>0.0</td>\n",
              "      <td>0.0</td>\n",
              "      <td>0.0</td>\n",
              "      <td>0.0</td>\n",
              "      <td>0.0</td>\n",
              "    </tr>\n",
              "    <tr>\n",
              "      <th>2</th>\n",
              "      <td>0.0</td>\n",
              "      <td>0.0</td>\n",
              "      <td>0.0</td>\n",
              "      <td>0.0</td>\n",
              "      <td>0.0</td>\n",
              "      <td>0.0</td>\n",
              "      <td>0.0</td>\n",
              "      <td>0.0</td>\n",
              "      <td>0.0</td>\n",
              "      <td>0.11122</td>\n",
              "      <td>...</td>\n",
              "      <td>0.000000</td>\n",
              "      <td>0.0</td>\n",
              "      <td>0.0</td>\n",
              "      <td>0.0</td>\n",
              "      <td>0.0</td>\n",
              "      <td>0.0</td>\n",
              "      <td>0.0</td>\n",
              "      <td>0.0</td>\n",
              "      <td>0.0</td>\n",
              "      <td>0.0</td>\n",
              "    </tr>\n",
              "    <tr>\n",
              "      <th>3</th>\n",
              "      <td>0.0</td>\n",
              "      <td>0.0</td>\n",
              "      <td>0.0</td>\n",
              "      <td>0.0</td>\n",
              "      <td>0.0</td>\n",
              "      <td>0.0</td>\n",
              "      <td>0.0</td>\n",
              "      <td>0.0</td>\n",
              "      <td>0.0</td>\n",
              "      <td>0.00000</td>\n",
              "      <td>...</td>\n",
              "      <td>0.000000</td>\n",
              "      <td>0.0</td>\n",
              "      <td>0.0</td>\n",
              "      <td>0.0</td>\n",
              "      <td>0.0</td>\n",
              "      <td>0.0</td>\n",
              "      <td>0.0</td>\n",
              "      <td>0.0</td>\n",
              "      <td>0.0</td>\n",
              "      <td>0.0</td>\n",
              "    </tr>\n",
              "    <tr>\n",
              "      <th>4</th>\n",
              "      <td>0.0</td>\n",
              "      <td>0.0</td>\n",
              "      <td>0.0</td>\n",
              "      <td>0.0</td>\n",
              "      <td>0.0</td>\n",
              "      <td>0.0</td>\n",
              "      <td>0.0</td>\n",
              "      <td>0.0</td>\n",
              "      <td>0.0</td>\n",
              "      <td>0.00000</td>\n",
              "      <td>...</td>\n",
              "      <td>0.000000</td>\n",
              "      <td>0.0</td>\n",
              "      <td>0.0</td>\n",
              "      <td>0.0</td>\n",
              "      <td>0.0</td>\n",
              "      <td>0.0</td>\n",
              "      <td>0.0</td>\n",
              "      <td>0.0</td>\n",
              "      <td>0.0</td>\n",
              "      <td>0.0</td>\n",
              "    </tr>\n",
              "  </tbody>\n",
              "</table>\n",
              "<p>5 rows × 3920 columns</p>\n",
              "</div>\n",
              "    <div class=\"colab-df-buttons\">\n",
              "\n",
              "  <div class=\"colab-df-container\">\n",
              "    <button class=\"colab-df-convert\" onclick=\"convertToInteractive('df-a1783eff-abf0-4426-9470-80608e9effed')\"\n",
              "            title=\"Convert this dataframe to an interactive table.\"\n",
              "            style=\"display:none;\">\n",
              "\n",
              "  <svg xmlns=\"http://www.w3.org/2000/svg\" height=\"24px\" viewBox=\"0 -960 960 960\">\n",
              "    <path d=\"M120-120v-720h720v720H120Zm60-500h600v-160H180v160Zm220 220h160v-160H400v160Zm0 220h160v-160H400v160ZM180-400h160v-160H180v160Zm440 0h160v-160H620v160ZM180-180h160v-160H180v160Zm440 0h160v-160H620v160Z\"/>\n",
              "  </svg>\n",
              "    </button>\n",
              "\n",
              "  <style>\n",
              "    .colab-df-container {\n",
              "      display:flex;\n",
              "      gap: 12px;\n",
              "    }\n",
              "\n",
              "    .colab-df-convert {\n",
              "      background-color: #E8F0FE;\n",
              "      border: none;\n",
              "      border-radius: 50%;\n",
              "      cursor: pointer;\n",
              "      display: none;\n",
              "      fill: #1967D2;\n",
              "      height: 32px;\n",
              "      padding: 0 0 0 0;\n",
              "      width: 32px;\n",
              "    }\n",
              "\n",
              "    .colab-df-convert:hover {\n",
              "      background-color: #E2EBFA;\n",
              "      box-shadow: 0px 1px 2px rgba(60, 64, 67, 0.3), 0px 1px 3px 1px rgba(60, 64, 67, 0.15);\n",
              "      fill: #174EA6;\n",
              "    }\n",
              "\n",
              "    .colab-df-buttons div {\n",
              "      margin-bottom: 4px;\n",
              "    }\n",
              "\n",
              "    [theme=dark] .colab-df-convert {\n",
              "      background-color: #3B4455;\n",
              "      fill: #D2E3FC;\n",
              "    }\n",
              "\n",
              "    [theme=dark] .colab-df-convert:hover {\n",
              "      background-color: #434B5C;\n",
              "      box-shadow: 0px 1px 3px 1px rgba(0, 0, 0, 0.15);\n",
              "      filter: drop-shadow(0px 1px 2px rgba(0, 0, 0, 0.3));\n",
              "      fill: #FFFFFF;\n",
              "    }\n",
              "  </style>\n",
              "\n",
              "    <script>\n",
              "      const buttonEl =\n",
              "        document.querySelector('#df-a1783eff-abf0-4426-9470-80608e9effed button.colab-df-convert');\n",
              "      buttonEl.style.display =\n",
              "        google.colab.kernel.accessAllowed ? 'block' : 'none';\n",
              "\n",
              "      async function convertToInteractive(key) {\n",
              "        const element = document.querySelector('#df-a1783eff-abf0-4426-9470-80608e9effed');\n",
              "        const dataTable =\n",
              "          await google.colab.kernel.invokeFunction('convertToInteractive',\n",
              "                                                    [key], {});\n",
              "        if (!dataTable) return;\n",
              "\n",
              "        const docLinkHtml = 'Like what you see? Visit the ' +\n",
              "          '<a target=\"_blank\" href=https://colab.research.google.com/notebooks/data_table.ipynb>data table notebook</a>'\n",
              "          + ' to learn more about interactive tables.';\n",
              "        element.innerHTML = '';\n",
              "        dataTable['output_type'] = 'display_data';\n",
              "        await google.colab.output.renderOutput(dataTable, element);\n",
              "        const docLink = document.createElement('div');\n",
              "        docLink.innerHTML = docLinkHtml;\n",
              "        element.appendChild(docLink);\n",
              "      }\n",
              "    </script>\n",
              "  </div>\n",
              "\n",
              "\n",
              "    <div id=\"df-ec89da5b-72cb-4369-8dd4-5a938a29a089\">\n",
              "      <button class=\"colab-df-quickchart\" onclick=\"quickchart('df-ec89da5b-72cb-4369-8dd4-5a938a29a089')\"\n",
              "                title=\"Suggest charts\"\n",
              "                style=\"display:none;\">\n",
              "\n",
              "<svg xmlns=\"http://www.w3.org/2000/svg\" height=\"24px\"viewBox=\"0 0 24 24\"\n",
              "     width=\"24px\">\n",
              "    <g>\n",
              "        <path d=\"M19 3H5c-1.1 0-2 .9-2 2v14c0 1.1.9 2 2 2h14c1.1 0 2-.9 2-2V5c0-1.1-.9-2-2-2zM9 17H7v-7h2v7zm4 0h-2V7h2v10zm4 0h-2v-4h2v4z\"/>\n",
              "    </g>\n",
              "</svg>\n",
              "      </button>\n",
              "\n",
              "<style>\n",
              "  .colab-df-quickchart {\n",
              "      --bg-color: #E8F0FE;\n",
              "      --fill-color: #1967D2;\n",
              "      --hover-bg-color: #E2EBFA;\n",
              "      --hover-fill-color: #174EA6;\n",
              "      --disabled-fill-color: #AAA;\n",
              "      --disabled-bg-color: #DDD;\n",
              "  }\n",
              "\n",
              "  [theme=dark] .colab-df-quickchart {\n",
              "      --bg-color: #3B4455;\n",
              "      --fill-color: #D2E3FC;\n",
              "      --hover-bg-color: #434B5C;\n",
              "      --hover-fill-color: #FFFFFF;\n",
              "      --disabled-bg-color: #3B4455;\n",
              "      --disabled-fill-color: #666;\n",
              "  }\n",
              "\n",
              "  .colab-df-quickchart {\n",
              "    background-color: var(--bg-color);\n",
              "    border: none;\n",
              "    border-radius: 50%;\n",
              "    cursor: pointer;\n",
              "    display: none;\n",
              "    fill: var(--fill-color);\n",
              "    height: 32px;\n",
              "    padding: 0;\n",
              "    width: 32px;\n",
              "  }\n",
              "\n",
              "  .colab-df-quickchart:hover {\n",
              "    background-color: var(--hover-bg-color);\n",
              "    box-shadow: 0 1px 2px rgba(60, 64, 67, 0.3), 0 1px 3px 1px rgba(60, 64, 67, 0.15);\n",
              "    fill: var(--button-hover-fill-color);\n",
              "  }\n",
              "\n",
              "  .colab-df-quickchart-complete:disabled,\n",
              "  .colab-df-quickchart-complete:disabled:hover {\n",
              "    background-color: var(--disabled-bg-color);\n",
              "    fill: var(--disabled-fill-color);\n",
              "    box-shadow: none;\n",
              "  }\n",
              "\n",
              "  .colab-df-spinner {\n",
              "    border: 2px solid var(--fill-color);\n",
              "    border-color: transparent;\n",
              "    border-bottom-color: var(--fill-color);\n",
              "    animation:\n",
              "      spin 1s steps(1) infinite;\n",
              "  }\n",
              "\n",
              "  @keyframes spin {\n",
              "    0% {\n",
              "      border-color: transparent;\n",
              "      border-bottom-color: var(--fill-color);\n",
              "      border-left-color: var(--fill-color);\n",
              "    }\n",
              "    20% {\n",
              "      border-color: transparent;\n",
              "      border-left-color: var(--fill-color);\n",
              "      border-top-color: var(--fill-color);\n",
              "    }\n",
              "    30% {\n",
              "      border-color: transparent;\n",
              "      border-left-color: var(--fill-color);\n",
              "      border-top-color: var(--fill-color);\n",
              "      border-right-color: var(--fill-color);\n",
              "    }\n",
              "    40% {\n",
              "      border-color: transparent;\n",
              "      border-right-color: var(--fill-color);\n",
              "      border-top-color: var(--fill-color);\n",
              "    }\n",
              "    60% {\n",
              "      border-color: transparent;\n",
              "      border-right-color: var(--fill-color);\n",
              "    }\n",
              "    80% {\n",
              "      border-color: transparent;\n",
              "      border-right-color: var(--fill-color);\n",
              "      border-bottom-color: var(--fill-color);\n",
              "    }\n",
              "    90% {\n",
              "      border-color: transparent;\n",
              "      border-bottom-color: var(--fill-color);\n",
              "    }\n",
              "  }\n",
              "</style>\n",
              "\n",
              "      <script>\n",
              "        async function quickchart(key) {\n",
              "          const quickchartButtonEl =\n",
              "            document.querySelector('#' + key + ' button');\n",
              "          quickchartButtonEl.disabled = true;  // To prevent multiple clicks.\n",
              "          quickchartButtonEl.classList.add('colab-df-spinner');\n",
              "          try {\n",
              "            const charts = await google.colab.kernel.invokeFunction(\n",
              "                'suggestCharts', [key], {});\n",
              "          } catch (error) {\n",
              "            console.error('Error during call to suggestCharts:', error);\n",
              "          }\n",
              "          quickchartButtonEl.classList.remove('colab-df-spinner');\n",
              "          quickchartButtonEl.classList.add('colab-df-quickchart-complete');\n",
              "        }\n",
              "        (() => {\n",
              "          let quickchartButtonEl =\n",
              "            document.querySelector('#df-ec89da5b-72cb-4369-8dd4-5a938a29a089 button');\n",
              "          quickchartButtonEl.style.display =\n",
              "            google.colab.kernel.accessAllowed ? 'block' : 'none';\n",
              "        })();\n",
              "      </script>\n",
              "    </div>\n",
              "\n",
              "    </div>\n",
              "  </div>\n"
            ],
            "application/vnd.google.colaboratory.intrinsic+json": {
              "type": "dataframe",
              "variable_name": "tfidf_df"
            }
          },
          "metadata": {},
          "execution_count": 23
        }
      ]
    },
    {
      "cell_type": "markdown",
      "source": [
        "\n",
        "\n",
        "---\n",
        "\n"
      ],
      "metadata": {
        "id": "kFI-t7ePvIpm"
      }
    },
    {
      "cell_type": "markdown",
      "source": [
        "**$\\Large \\text{SVD AND PCA}$**"
      ],
      "metadata": {
        "id": "Uu4sa_P8vK4-"
      }
    },
    {
      "cell_type": "markdown",
      "source": [
        "As we can see from above, there are 3810 features (frankly speaking, most of  \n",
        "them are completely useless, as we can see from all these 0.0's).  \n",
        "Using all of them will be a waste of computation power.  \n",
        "So we will use Singular Value Decomposition to get the number of principle  \n",
        "components, that are actually useful in determining the Category."
      ],
      "metadata": {
        "id": "hWka2Jd1vUa-"
      }
    },
    {
      "cell_type": "code",
      "source": [
        "import seaborn as sns\n",
        "import matplotlib.pyplot as plt\n",
        "\n",
        "X = tfidf_df - tfidf_df.mean()\n",
        "U, S, VT = np.linalg.svd(X, full_matrices=False)\n",
        "\n",
        "# S is a diagonal matrix. The diagonal elements in S give us the proportion in\n",
        "# which each component explains the variance of the original data. For convenience\n",
        "# and interpretability we transform the proportions into ratios.\n",
        "S = (S/np.sum(S))*100\n",
        "\n",
        "S_df = pd.DataFrame({\n",
        "    'Component': [f'S{i+1}' for i in range(len(S))],\n",
        "    'Percent Explained Variance': np.round(S, 2)\n",
        "})"
      ],
      "metadata": {
        "id": "Ml4tZtdyMEQ-"
      },
      "execution_count": 24,
      "outputs": []
    },
    {
      "cell_type": "code",
      "source": [
        "sns.lineplot(data=S_df, x='Component', y='Percent Explained Variance')\n",
        "plt.title(\"Percentage of Variance explained by each Component\")\n",
        "plt.xticks(ticks=range(0, 1000, 100))\n",
        "plt.ylabel(\"Explained Variance (in %)\")\n",
        "plt.show()"
      ],
      "metadata": {
        "colab": {
          "base_uri": "https://localhost:8080/",
          "height": 472
        },
        "id": "5SWYHSeDMZni",
        "outputId": "8ecd66a0-0dc5-4db8-dc98-6cadc19efd5d"
      },
      "execution_count": 25,
      "outputs": [
        {
          "output_type": "display_data",
          "data": {
            "text/plain": [
              "<Figure size 640x480 with 1 Axes>"
            ],
            "image/png": "[encoded data removed]"
          },
          "metadata": {}
        }
      ]
    },
    {
      "cell_type": "markdown",
      "source": [
        "\n",
        "\n",
        "---\n",
        "\n"
      ],
      "metadata": {
        "id": "EnifwGP1wglr"
      }
    },
    {
      "cell_type": "markdown",
      "source": [
        "As we can see from the plot, after 175-ish, the components explain nearly 0%  \n",
        " (if not 0%) of the variance in the data.  \n",
        "So, during PCA we will generate only 175 principle components.  \n",
        "This reduces the number of features from 3810 to 175, a drop of more than 95%!!"
      ],
      "metadata": {
        "id": "gs5Nh7GAv36G"
      }
    },
    {
      "cell_type": "code",
      "source": [
        "from sklearn.decomposition import PCA\n",
        "from sklearn.preprocessing import StandardScaler\n",
        "\n",
        "scaler = StandardScaler()\n",
        "scaled_tfidf_df = scaler.fit_transform(tfidf_df)\n",
        "\n",
        "pca = PCA(n_components=175)\n",
        "tfidf_pca = pca.fit_transform(scaled_tfidf_df)\n",
        "\n",
        "tfidf_pca_df = pd.DataFrame(tfidf_pca, columns=[f'PC{i+1}' for i in range(tfidf_pca.shape[1])])"
      ],
      "metadata": {
        "id": "tdzAN3enMmFC"
      },
      "execution_count": 26,
      "outputs": []
    },
    {
      "cell_type": "markdown",
      "source": [
        "\n",
        "\n",
        "---\n",
        "\n"
      ],
      "metadata": {
        "id": "8RCfJ-LDwjqw"
      }
    },
    {
      "cell_type": "markdown",
      "source": [
        "**$\\huge \\text{STEP-2 TRAINING THE MODEL}$**"
      ],
      "metadata": {
        "id": "5Q4wVHTWwug7"
      }
    },
    {
      "cell_type": "markdown",
      "source": [
        "We will employ the usual techniques of batch normalization, dropout and early  \n",
        "stopping to counter overfitting.  \n",
        "Adam has been chosen as the optimizer, and the width of each hidden layer is  \n",
        "low-key arbitrary.  \n",
        "We will use the word embeddings to classify the category, so we will use binary  \n",
        "cross entropy as loss function and accuracy as loss metric.  \n",
        "If for a candidate, the predicted category matches the applied-for category, he  \n",
        "will be shortlisted.\n"
      ],
      "metadata": {
        "id": "gTK8ZUB-yzIG"
      }
    },
    {
      "cell_type": "code",
      "metadata": {
        "id": "798510b4"
      },
      "source": [
        "from sklearn.model_selection import train_test_split\n",
        "from sklearn.metrics import classification_report\n",
        "\n",
        "# Split data into training, validating and testing sets\n",
        "\n",
        "X_temp, X_test, y_temp, y_test = train_test_split(tfidf_pca_df, df['Category'], test_size=0.3, random_state=42)\n",
        "\n",
        "X_train, X_val, y_train, y_val = train_test_split(X_temp, y_temp, test_size=0.2, random_state=42)\n"
      ],
      "execution_count": 40,
      "outputs": []
    },
    {
      "cell_type": "code",
      "source": [
        "from tensorflow import keras\n",
        "from tensorflow.keras import layers\n",
        "\n",
        "model = keras.Sequential([\n",
        "    layers.Dense(32, activation='relu', input_shape=[tfidf_pca_df.shape[1]]),\n",
        "    layers.Dropout(0.3),\n",
        "    layers.BatchNormalization(),\n",
        "    layers.Dense(df['Category'].nunique(), activation='softmax'),\n",
        "])"
      ],
      "metadata": {
        "id": "PBgz6RNk0o19",
        "colab": {
          "base_uri": "https://localhost:8080/"
        },
        "outputId": "6911404b-68a2-469b-fc21-0fba7861f6a9"
      },
      "execution_count": 41,
      "outputs": [
        {
          "output_type": "stream",
          "name": "stderr",
          "text": [
            "/usr/local/lib/python3.11/dist-packages/keras/src/layers/core/dense.py:87: UserWarning: Do not pass an `input_shape`/`input_dim` argument to a layer. When using Sequential models, prefer using an `Input(shape)` object as the first layer in the model instead.\n",
            "  super().__init__(activity_regularizer=activity_regularizer, **kwargs)\n"
          ]
        }
      ]
    },
    {
      "cell_type": "code",
      "source": [
        "from sklearn.preprocessing import OneHotEncoder\n",
        "from tensorflow import keras\n",
        "\n",
        "# One-hot encode the target variable\n",
        "encoder = OneHotEncoder(sparse_output=False)\n",
        "y_train_encoded = encoder.fit_transform(y_train.values.reshape(-1, 1))\n",
        "y_val_encoded = encoder.transform(y_val.values.reshape(-1, 1))\n",
        "\n",
        "model.compile(\n",
        "    optimizer='adam',\n",
        "    loss='categorical_crossentropy',\n",
        "    metrics=['accuracy']\n",
        ")\n",
        "\n",
        "# if the accuract drops continuously for more than 10 epochs, we will stop training\n",
        "# accuracy is said to change if it differs by atleast 0.001\n",
        "early_stopping = keras.callbacks.EarlyStopping(\n",
        "    patience=10,\n",
        "    min_delta=0.001,\n",
        "    restore_best_weights=True,\n",
        ")\n",
        "\n",
        "history = model.fit(\n",
        "    X_train, y_train_encoded,\n",
        "    validation_data=(X_val, y_val_encoded),\n",
        "    batch_size=256,\n",
        "    epochs=100,\n",
        "    callbacks=[early_stopping],\n",
        "    verbose=0,\n",
        ")\n",
        "\n",
        "# Plot the learning curves\n",
        "history_df = pd.DataFrame(history.history)\n",
        "history_df.loc[:, ['loss', 'val_loss']].plot();\n",
        "history_df.loc[:, ['accuracy', 'val_accuracy']].plot();"
      ],
      "metadata": {
        "colab": {
          "base_uri": "https://localhost:8080/",
          "height": 846
        },
        "id": "dLUOW3EP0s-j",
        "outputId": "aaa38ead-b77e-4031-c1da-36af906d625e"
      },
      "execution_count": 42,
      "outputs": [
        {
          "output_type": "display_data",
          "data": {
            "text/plain": [
              "<Figure size 640x480 with 1 Axes>"
            ],
            "image/png": "[encoded data removed]"
          },
          "metadata": {}
        },
        {
          "output_type": "display_data",
          "data": {
            "text/plain": [
              "<Figure size 640x480 with 1 Axes>"
            ],
            "image/png": "[encoded data removed]"
          },
          "metadata": {}
        }
      ]
    },
    {
      "cell_type": "markdown",
      "source": [
        "\n",
        "\n",
        "---\n",
        "\n"
      ],
      "metadata": {
        "id": "BOgqWKOo2ld8"
      }
    },
    {
      "cell_type": "markdown",
      "source": [
        "**$\\huge \\text{STEP-3 EVALUATION}$**  \n",
        "We will test our model on previously split test data, and evaluate its  \n",
        "performance using classification report and confusion matrix."
      ],
      "metadata": {
        "id": "QlNGO3Af2QZy"
      }
    },
    {
      "cell_type": "code",
      "metadata": {
        "colab": {
          "base_uri": "https://localhost:8080/"
        },
        "id": "107d2299",
        "outputId": "f818f96b-32b1-4c68-a56e-ee87d858c8ec"
      },
      "source": [
        "from sklearn.metrics import classification_report\n",
        "import numpy as np\n",
        "\n",
        "y_pred_encoded = model.predict(X_test)\n",
        "\n",
        "# Decode the one-hot encoded predictions\n",
        "y_pred = encoder.inverse_transform(y_pred_encoded)\n",
        "\n",
        "# Flatten the predicted labels to match the shape of y_test\n",
        "y_pred = y_pred.flatten()\n",
        "\n",
        "print(classification_report(y_test, y_pred))"
      ],
      "execution_count": 43,
      "outputs": [
        {
          "output_type": "stream",
          "name": "stdout",
          "text": [
            "\u001b[1m10/10\u001b[0m \u001b[32m━━━━━━━━━━━━━━━━━━━━\u001b[0m\u001b[37m\u001b[0m \u001b[1m0s\u001b[0m 9ms/step\n",
            "                           precision    recall  f1-score   support\n",
            "\n",
            "                 Advocate       1.00      0.33      0.50         6\n",
            "                     Arts       1.00      1.00      1.00         8\n",
            "       Automation Testing       1.00      0.86      0.92         7\n",
            "               Blockchain       1.00      1.00      1.00        11\n",
            "         Business Analyst       0.90      1.00      0.95         9\n",
            "           Civil Engineer       0.91      0.91      0.91        11\n",
            "             Data Science       1.00      1.00      1.00        11\n",
            "                 Database       0.82      1.00      0.90         9\n",
            "          DevOps Engineer       0.94      0.89      0.92        19\n",
            "         DotNet Developer       0.85      1.00      0.92        11\n",
            "            ETL Developer       1.00      1.00      1.00         9\n",
            "   Electrical Engineering       1.00      1.00      1.00         9\n",
            "                       HR       1.00      1.00      1.00        17\n",
            "                   Hadoop       1.00      1.00      1.00         9\n",
            "       Health and fitness       1.00      0.70      0.82        10\n",
            "           Java Developer       0.97      1.00      0.98        28\n",
            "      Mechanical Engineer       1.00      1.00      1.00        12\n",
            "Network Security Engineer       0.57      1.00      0.73         4\n",
            "       Operations Manager       1.00      1.00      1.00        16\n",
            "                      PMO       1.00      1.00      1.00         9\n",
            "         Python Developer       1.00      1.00      1.00        14\n",
            "            SAP Developer       1.00      1.00      1.00         9\n",
            "                    Sales       1.00      1.00      1.00        11\n",
            "                  Testing       1.00      1.00      1.00        24\n",
            "            Web Designing       1.00      1.00      1.00         6\n",
            "\n",
            "                 accuracy                           0.96       289\n",
            "                macro avg       0.96      0.95      0.94       289\n",
            "             weighted avg       0.97      0.96      0.96       289\n",
            "\n"
          ]
        }
      ]
    },
    {
      "cell_type": "markdown",
      "source": [
        "\n",
        "\n",
        "---\n",
        "\n"
      ],
      "metadata": {
        "id": "uz8niSqu3Rdu"
      }
    },
    {
      "cell_type": "code",
      "metadata": {
        "colab": {
          "base_uri": "https://localhost:8080/",
          "height": 1000
        },
        "id": "b6872dfb",
        "outputId": "5d8598f7-ce37-4b36-bed4-d5fec6b915c6"
      },
      "source": [
        "from sklearn.metrics import confusion_matrix\n",
        "import matplotlib.pyplot as plt\n",
        "import seaborn as sns\n",
        "\n",
        "cm = confusion_matrix(y_test, y_pred)\n",
        "\n",
        "# Get the class labels\n",
        "classes = np.unique(y_test)\n",
        "\n",
        "plt.figure(figsize=(12, 10))\n",
        "sns.heatmap(cm, annot=True, fmt='d', cmap='Blues', xticklabels=classes, yticklabels=classes)\n",
        "plt.xlabel('Predicted')\n",
        "plt.ylabel('True')\n",
        "plt.title('Confusion Matrix')\n",
        "plt.show()"
      ],
      "execution_count": 44,
      "outputs": [
        {
          "output_type": "display_data",
          "data": {
            "text/plain": [
              "<Figure size 1200x1000 with 2 Axes>"
            ],
            "image/png": "[encoded data removed]"
          },
          "metadata": {}
        }
      ]
    },
    {
      "cell_type": "markdown",
      "source": [
        "**$\\huge \\text{FOR THE USER}$**  "
      ],
      "metadata": {
        "id": "1hA68Y5oAHn5"
      }
    },
    {
      "cell_type": "code",
      "source": [
        "# Enter your resume text\n",
        "resume = \"Skills * Programming Languages: Python (pandas, numpy, scipy, scikit-learn, matplotlib) * Machine learning: Regression, SVM, NaÃ¯ve Bayes, KNN, Cluster Analysis, Word Embedding, . * Others: Regular Expression, HTML, CSS, Angular 6, Logstash, Kafka,- Open CV and understanding of Deep learning.Education Details \\r\\n\\r\\nData Science Assurance Associate \\r\\n\\r\\nData Science Assurance Associate - Ernst & Young LLP\\r\\nSkill Details \\r\\nJAVASCRIPT- Exprience - 24 months\\r\\njQuery- Exprience - 24 months\\r\\nPython- Exprience - 24 monthsCompany Details \\r\\ncompany - Ernst & Young LLP\\r\\ndescription - Fraud Investigation\"\n",
        "# Enter the job category that you are applying for\n",
        "# NOTE:- It should be one of the following (case-sensitive):\n",
        "# 'Data Science', 'HR', 'Advocate', 'Arts', 'Web Designing',\n",
        "# 'Mechanical Engineer', 'Sales', 'Health and fitness',\n",
        "# 'Civil Engineer', 'Java Developer', 'Business Analyst',\n",
        "# 'SAP Developer', 'Automation Testing', 'Electrical Engineering',\n",
        "# 'Operations Manager', 'Python Developer', 'DevOps Engineer',\n",
        "# 'Network Security Engineer', 'PMO', 'Database', 'Hadoop',\n",
        "# 'ETL Developer', 'DotNet Developer', 'Blockchain', 'Testing'\n",
        "category = \"Data Science\""
      ],
      "metadata": {
        "id": "biAn6ULiHpAY"
      },
      "execution_count": 45,
      "outputs": []
    },
    {
      "cell_type": "code",
      "source": [
        "df_user = pd.DataFrame({\n",
        "    'Category': [category],\n",
        "    'Resume': [resume]\n",
        "})"
      ],
      "metadata": {
        "id": "tJv4hWHuIUdA"
      },
      "execution_count": 46,
      "outputs": []
    },
    {
      "cell_type": "code",
      "source": [
        "# processing df_user like we did before\n",
        "df_user['Cleaned_Resume'] = df_user['Resume'].apply(clean_resume)\n",
        "df_user['Resume'] = df_user['Cleaned_Resume']\n",
        "df_user = df_user.drop('Cleaned_Resume', axis=1)\n",
        "df_user['Tokenized_Resume'] = df_user['Resume'].apply(lambda x: [token.text for token in nlp(x)])\n",
        "df_user['Extracted_Features'] = df_user['Tokenized_Resume'].apply(extract_sections)\n",
        "df_user['Concatenated_Features'] = df_user['Extracted_Features'].apply(lambda x: ' '.join([' '.join(section) for section in x.values()]))\n",
        "tfidf_matrix_user = tfidf_vectorizer.transform(df_user['Concatenated_Features'])"
      ],
      "metadata": {
        "id": "aGiybv1MeUJ_"
      },
      "execution_count": 47,
      "outputs": []
    },
    {
      "cell_type": "code",
      "source": [
        "# processing tfidf_matrix_user like we did before\n",
        "tfidf_matrix_user = tfidf_vectorizer.transform(df_user['Concatenated_Features'])\n",
        "tfidf_df_user = pd.DataFrame(tfidf_matrix_user.toarray(), columns=tfidf_vectorizer.get_feature_names_out())\n",
        "tfidf_df_user = tfidf_df_user.reindex(columns=tfidf_df.columns, fill_value=0)\n",
        "scaled_tfidf_df_user = scaler.transform(tfidf_df_user)\n",
        "tfidf_pca_user = pca.transform(scaled_tfidf_df_user)\n",
        "tfidf_pca_df_user = pd.DataFrame(tfidf_pca_user, columns=[f'PC{i+1}' for i in range(tfidf_pca_user.shape[1])])\n",
        "category_pred_encoded = model.predict(tfidf_pca_df_user)\n",
        "category_pred_decoded = encoder.inverse_transform(category_pred_encoded)\n",
        "\n",
        "\n",
        "if category_pred_decoded[0][0] == category:\n",
        "  print(\"Congrats! You have been shortlisted for the interview stage.\")\n",
        "else:\n",
        "  print(\"Sorry! You were not shortlisted. Better luck next time!!\")"
      ],
      "metadata": {
        "colab": {
          "base_uri": "https://localhost:8080/"
        },
        "id": "ilvoQRbZzulw",
        "outputId": "b290a427-14cd-44df-8d0d-e4778fb7ed92"
      },
      "execution_count": 48,
      "outputs": [
        {
          "output_type": "stream",
          "name": "stdout",
          "text": [
            "\u001b[1m1/1\u001b[0m \u001b[32m━━━━━━━━━━━━━━━━━━━━\u001b[0m\u001b[37m\u001b[0m \u001b[1m0s\u001b[0m 66ms/step\n",
            "Congrats! You have been shortlisted for the interview stage.\n"
          ]
        }
      ]
    }
  ]
}